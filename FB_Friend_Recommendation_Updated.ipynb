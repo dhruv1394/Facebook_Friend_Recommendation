{
 "cells": [
  {
   "cell_type": "markdown",
   "metadata": {
    "colab_type": "text",
    "id": "rnysF8x_ORlO"
   },
   "source": [
    "<p style=\"font-size:32px;text-align:center\"> <b>Social network Graph Link Prediction - Facebook Challenge</b> </p>"
   ]
  },
  {
   "cell_type": "markdown",
   "metadata": {
    "colab_type": "text",
    "id": "JkoerGBXORlS"
   },
   "source": [
    "### Problem statement: \n",
    "Given a directed social graph, have to predict missing links to recommend users (Link Prediction in graph). The concept of a directed graph is important since it gives us an indication that our dataset represents a social media system such as Instagram or Twitter with the concept of \"Follower-Followee\", unlike a social media system such as Linkedin or Facebook, where the relationship is simply Connection/Friend Based."
   ]
  },
  {
   "cell_type": "markdown",
   "metadata": {
    "colab_type": "text",
    "id": "V3QpE6i9ORlU"
   },
   "source": [
    "### Data Overview\n",
    "Taken data from facebook's recruting challenge on Kaggle https://www.kaggle.com/c/FacebookRecruiting  \n",
    "data contains two columns source and destination each edge in graph. \n",
    " \n",
    "    - Data columns (total 2 columns):  \n",
    "    - source_node         int64  \n",
    "    - destination_node    int64  \n",
    " \n",
    " Total Number of Vertices/Nodes/Users that we have in our dataset = 18,62,220 (1.86 Million approx)\n",
    " Total Number of Directed Edges that we have in our dataset       = 94,37,520 (9.43 Million approx)\n",
    " \n",
    " <h4> Note </h4> \n",
    " \n",
    " * All the information that we have been provided over here are vertex pairs with connecting edges.\n",
    " * There is no metainformation available to us over here. However in the real world if we were engineers at Instagram/Facebook we would have far more data to work with. Eg :- We would have information about the cities in which users U(i) and U(j) live, the schools and colleges to which U(i) and U(j) went etc. All the information that we have in this scenario is whether the persons are following each other or not.\n",
    " * Note that here we have just been provided with one snapshot of the data (edge information) at a time = t. However in the real world if we were engineers at Facebook/Instagram we would have this link information at various time because as the network grows, people are following new friends. -> This network is actually very dynamic in the real world.\n",
    "    \n",
    "<h4> Some Terminologies </h4>\n",
    "\n",
    "* An entire system/network of connections in Applied Mathematics or Computer Science is called a graph. In our scenario the individual people are represented by nodes/vertices whereas these Social Network users are connected with the help of edges.\n",
    "* A graph is represented by a set of vertices/nodes where each vertex/node corresponds to a user. Edges/Links can be thought of as representing friendships/connections (in social networks like Facebook or Linkedin) or \"Follower-Followee\" Relationship (in social networks like Twitter/Instagram where people follow each other).\n",
    "* A Graph in a nutshell is a set of vertices and a set of edges. Mathematically a graph is written as follows :-\n",
    "            G = <V,E> , where E refers to an Edge -> pair of 2 vertices.\n",
    "            E = [U(i),U(j)]    \n",
    "* Wherever there is a direction to the edge they are called directed edges whereas the edges in the previous Linkedin/Facebook scenario are called undirected edges. In the case of directed edges it is possible that there are 2 edges between 2 vertices : one edge in each direction.\n",
    "* The graph with directed edges is called a directed graph and the graph with undirected edges is called an undirected graph. The dataset that we have for this problem is a directed graph. \n",
    "* A path in a graph is basically a valid sequence of edges that you can follow. "
   ]
  },
  {
   "cell_type": "markdown",
   "metadata": {
    "colab_type": "text",
    "id": "NHsD-3qlORlV"
   },
   "source": [
    "### Mapping the Problem into Supervised Learning Problem:\n",
    "- What we do to map the problem to a supervised learning problem is that the presence of a directed edge between 2 vertices is represented as class 1 whereas the absence of a directed edge is represented as class 0. Now since we have 2 classes, this becomes a Binary Classification Task.\n",
    "- Generated training samples of good and bad links from given directed graph and for each link got some features like no of followers, is he followed back, page rank, katz score, adar index, some svd fetures of adj matrix, some weight features etc. and trained ml model based on these features to predict link. \n",
    "- Some reference papers and videos :  \n",
    "    - https://www.cs.cornell.edu/home/kleinber/link-pred.pdf\n",
    "    - https://www3.nd.edu/~dial/publications/lichtenwalter2010new.pdf\n",
    "    - https://www.youtube.com/watch?v=2M77Hgy17cg\n",
    "    \n",
    "<h4> Q. How do you featurize this data? </h4>\n",
    "\n",
    "* We can featurize our data with the help of Graph theoretic or Graph based features. One common sensical feature that we can employ is the number of common vertices. If there are a lot of common vertices there is a very high chance that the 2 users have similar interests. (Because of a lot of overlap between the 2 sets)\n",
    "* Hence, in such a scenario the first user would be interested in following the non-common vertices present in the set of second user and vice-versa. Similarly there is a high chance that these 2 users would be interested in following each other.\n",
    "* Similarly if User-1 is following User-2 there is a very high probability that User-2 also follows User-1. This is called the 'Following Back' Feature -> This is a Binary Feature."
   ]
  },
  {
   "cell_type": "markdown",
   "metadata": {
    "colab_type": "text",
    "id": "KJhG3ZczORlW"
   },
   "source": [
    "### Business objectives and constraints:  \n",
    "- No Low-Latency Requirement :- The way that most of the social networks compute and determine whether there should be an edge between 2 users is that these predictions are updated on a regular basis - This regularity could be daily or any other duration. For a user you compute which all users he/she should follow in this interval, and you return the Top 5 or Top 10 users that he/she should be following. Basically this computation need not be carried out after the user logs in, but can be precomputed and stored in a hash table like data structure and brought up to notice whenever the user logs in.\n",
    "- Probability of prediction is useful to recommend the Highest probability links :- They are useful because they help us rank the users who have the highest probability of being followed by the user."
   ]
  },
  {
   "cell_type": "markdown",
   "metadata": {
    "colab_type": "text",
    "id": "BUZLwsmKORlX"
   },
   "source": [
    "### Performance metric for Supervised Learning:  \n",
    "- We got to suggest connections which are most likely to be correct and we should try and not miss out on any connections :- This basically means that both Precision as well as Recall are important for which we need high values. So F1-score is a good choice.\n",
    "- Another good metric could be 'Precision at Top K' ie K over here could be any integer. Let K=10. So 'Precision at Top 10' says that for a user if you have 10 vertices (ie. Top 10 users that our user should be following), how many of them are actually correct. This metric is useful because for most social networks you do not get to show all the users whom the user should be following - You only have a limited space available to display these. It is a measure that if you are recommending 10 users, how many of them are eventually followed by our user -> But here we will only look at optimizing F1-Score.\n",
    "- Confusion matrix"
   ]
  },
  {
   "cell_type": "code",
   "execution_count": 1,
   "metadata": {
    "colab": {},
    "colab_type": "code",
    "id": "JDE330RZORlY"
   },
   "outputs": [],
   "source": [
    "#Importing Libraries\n",
    "# please do go through this python notebook: \n",
    "import warnings\n",
    "warnings.filterwarnings(\"ignore\")\n",
    "\n",
    "import csv\n",
    "import pandas as pd #pandas to create small dataframes \n",
    "import datetime #Convert to unix time\n",
    "import time #Convert to unix time\n",
    "import numpy as np  #Do aritmetic operations on arrays\n",
    "\n",
    "import matplotlib # matplotlib: used to plot graphs\n",
    "import matplotlib.pylab as plt\n",
    "import seaborn as sns #Plots\n",
    "import math\n",
    "import pickle\n",
    "import os\n",
    "import xgboost as xgb\n",
    "import gc\n",
    "import networkx as nx #for studying graphs and networks\n",
    "import pdb\n",
    "  \n",
    "\n",
    "from tqdm import tqdm\n",
    "from matplotlib import rcParams #Size of plots  \n",
    "from sklearn.cluster import MiniBatchKMeans, KMeans #Clustering\n",
    "from pandas import HDFStore,DataFrame\n",
    "from pandas import read_hdf\n",
    "from scipy.sparse.linalg import svds, eigs\n",
    "from sklearn.ensemble import RandomForestClassifier\n",
    "from sklearn.metrics import f1_score"
   ]
  },
  {
   "cell_type": "code",
   "execution_count": 2,
   "metadata": {
    "colab": {},
    "colab_type": "code",
    "id": "TS1Uy_1fORld",
    "outputId": "7c61fb10-6696-4bdd-fc9a-4c2e4c341c85"
   },
   "outputs": [
    {
     "name": "stdout",
     "output_type": "stream",
     "text": [
      "Name: \n",
      "Type: DiGraph\n",
      "Number of nodes: 1862220\n",
      "Number of edges: 9437519\n",
      "Average in degree:   5.0679\n",
      "Average out degree:   5.0679\n"
     ]
    }
   ],
   "source": [
    "#reading graph\n",
    "if not os.path.isfile('data/after_eda/train_woheader.csv'):\n",
    "    traincsv = pd.read_csv('facebook_train.csv')\n",
    "    print(traincsv[traincsv.isna().any(1)])\n",
    "    print(traincsv.info())\n",
    "    print(\"Number of duplicate entries: \",sum(traincsv.duplicated()))\n",
    "    traincsv.to_csv('data/after_eda/train_woheader.csv',header=False,index=False) #obtaining file without header\n",
    "    print(\"saved the graph into file\")\n",
    "else:\n",
    "    g=nx.read_edgelist('data/after_eda/train_woheader.csv',delimiter=',',create_using=nx.DiGraph(),nodetype=int)\n",
    "    #DiGraph()  over here basically means that we are creating a directed graph.\n",
    "    \n",
    "    print(nx.info(g))"
   ]
  },
  {
   "cell_type": "markdown",
   "metadata": {},
   "source": [
    "<h4> Observations </h4>\n",
    "\n",
    "* In-degree refers to the number of edges/links that are coming into a vertex whereas out-degree refers to the number of edges/links that are going out from a vertex. Thus the average in-degree and average out-degree values are measured across all the vertices. \n",
    "* For us the average in-degree and average out-degree values tell us that on an average there are 5 edges originating from each vertex and 5 edges that are coming into a vertex. "
   ]
  },
  {
   "cell_type": "markdown",
   "metadata": {
    "colab_type": "text",
    "id": "xC4VMFglORlj"
   },
   "source": [
    "> Displaying a sub graph :"
   ]
  },
  {
   "cell_type": "markdown",
   "metadata": {},
   "source": [
    " A Subgraph is basically a subset of vertices and the edges that are present between those vertices."
   ]
  },
  {
   "cell_type": "code",
   "execution_count": 3,
   "metadata": {
    "colab": {},
    "colab_type": "code",
    "id": "GKhTiiNvORll",
    "outputId": "46ab329e-fe99-4fb0-85f9-b913ecab4713"
   },
   "outputs": [
    {
     "name": "stdout",
     "output_type": "stream",
     "text": [
      "Name: \n",
      "Type: DiGraph\n",
      "Number of nodes: 66\n",
      "Number of edges: 50\n",
      "Average in degree:   0.7576\n",
      "Average out degree:   0.7576\n"
     ]
    },
    {
     "data": {
      "image/png": "[encoded data removed]",
      "text/plain": [
       "<Figure size 432x288 with 1 Axes>"
      ]
     },
     "metadata": {},
     "output_type": "display_data"
    }
   ],
   "source": [
    "#Displaying a sub graph\n",
    "if not os.path.isfile('train_woheader_sample.csv'):\n",
    "    pd.read_csv('data/facebook_train.csv', nrows=50).to_csv('train_woheader_sample.csv',header=False,index=False)\n",
    "    \n",
    "subgraph=nx.read_edgelist('train_woheader_sample.csv',delimiter=',',create_using=nx.DiGraph(),nodetype=int)\n",
    "#read_edgelist() takes the file names without the headers\n",
    "# https://stackoverflow.com/questions/9402255/drawing-a-huge-graph-with-networkx-and-matplotlib\n",
    "\n",
    "pos=nx.spring_layout(subgraph)\n",
    "nx.draw(subgraph,pos,node_color='#A0CBE2',edge_color='#00bb5e',width=1,edge_cmap=plt.cm.Blues,with_labels=True)\n",
    "plt.savefig(\"graph_sample.pdf\") #plt refers to matplotlib\n",
    "print(nx.info(subgraph))"
   ]
  },
  {
   "cell_type": "markdown",
   "metadata": {
    "colab_type": "text",
    "id": "5lPpKICcORlp"
   },
   "source": [
    "# 1. Exploratory Data Analysis"
   ]
  },
  {
   "cell_type": "code",
   "execution_count": 4,
   "metadata": {
    "colab": {},
    "colab_type": "code",
    "id": "VjWUUhhcORlq",
    "outputId": "0d3ddb5c-8552-4b6c-d2c3-8290c59fe8c5",
    "scrolled": true
   },
   "outputs": [
    {
     "name": "stdout",
     "output_type": "stream",
     "text": [
      "The number of unique persons 1862220\n"
     ]
    }
   ],
   "source": [
    "g=nx.read_edgelist('data/after_eda/train_woheader.csv',delimiter=',',create_using=nx.DiGraph(),nodetype=int)\n",
    "# No of Unique persons \n",
    "print(\"The number of unique persons\",len(g.nodes()))\n",
    "\n",
    "#The number of nodes could be simply obtained as g.nodes() because g refers to networkx graph or object"
   ]
  },
  {
   "cell_type": "markdown",
   "metadata": {
    "colab_type": "text",
    "id": "tCLMjnJjORlt"
   },
   "source": [
    "## 1.1 No of followers for each person"
   ]
  },
  {
   "cell_type": "code",
   "execution_count": 5,
   "metadata": {
    "colab": {},
    "colab_type": "code",
    "id": "MnCPaVKDORlu",
    "outputId": "48ace0f1-9488-4772-af4c-ab798d0af414",
    "scrolled": false
   },
   "outputs": [
    {
     "data": {
      "image/png": "[encoded data removed]",
      "text/plain": [
       "<Figure size 720x432 with 1 Axes>"
      ]
     },
     "metadata": {
      "needs_background": "light"
     },
     "output_type": "display_data"
    }
   ],
   "source": [
    "indegree_dist = list(dict(g.in_degree()).values()) \n",
    "#returns in-degree for each vertex -> converted into a dictionary and then the values are obtained. Then converted\n",
    "#to a list : You get a list of all the in-degrees for all the vertices.\n",
    "\n",
    "indegree_dist.sort()     #sorting the in-degrees\n",
    "plt.figure(figsize=(10,6))\n",
    "plt.plot(indegree_dist)\n",
    "plt.xlabel('Index No')\n",
    "plt.ylabel('No Of Followers')\n",
    "plt.show()"
   ]
  },
  {
   "cell_type": "markdown",
   "metadata": {},
   "source": [
    "<h4> Observations </h4>\n",
    "\n",
    "* We can easily say that the number of followers for a particular user is the same as the in-degree. Eg:- If my in-degree is 3, it means that 3 other users are following me.\n",
    "* There is one user with 0 followers.\n",
    "* There are some users in the middle index values who have more than 0 followers.\n",
    "* At the end we notice a sharp increase in the follower count ie. there is some user who has greater than 500 followers in the dataset given to us. \n",
    "* However, the fact that this rise in the number of followers is very steep means the following :- \n",
    "a) Most of our users have very few followers (<40) and there is a very small user subset who have >40 followers.\n",
    "b) There is atleast one user in our dataset with >500 followers."
   ]
  },
  {
   "cell_type": "code",
   "execution_count": 6,
   "metadata": {
    "colab": {},
    "colab_type": "code",
    "id": "7u12QubSORlx",
    "outputId": "8eea1ea1-14e9-462e-c791-86369802855c"
   },
   "outputs": [
    {
     "data": {
      "image/png": "[encoded data removed]",
      "text/plain": [
       "<Figure size 720x432 with 1 Axes>"
      ]
     },
     "metadata": {
      "needs_background": "light"
     },
     "output_type": "display_data"
    }
   ],
   "source": [
    "#Because there is a massive scale difference over here, we zoom into this graph.\n",
    "\n",
    "indegree_dist = list(dict(g.in_degree()).values())\n",
    "indegree_dist.sort()\n",
    "plt.figure(figsize=(10,6))\n",
    "plt.plot(indegree_dist[0:1500000]) #zoomed into users till 1.5 Million.\n",
    "plt.xlabel('Index No')\n",
    "plt.ylabel('No Of Followers')\n",
    "plt.show()"
   ]
  },
  {
   "cell_type": "markdown",
   "metadata": {},
   "source": [
    "<h4> Observations </h4>\n",
    "\n",
    "* There are approximately 200K users with 0 followers.\n",
    "* There are approximately 550K users with 1 follower. (750K - 200K)\n",
    "* There are approximately 250K users with 2 followers, and so on.\n",
    "* Even this curve that we obtained is fairly steep once it is smoothened. But we get an idea that approx. 1.5 Million of our users have less than or equal to 7 followers."
   ]
  },
  {
   "cell_type": "code",
   "execution_count": 7,
   "metadata": {
    "colab": {},
    "colab_type": "code",
    "id": "DjE6NNmxORl2",
    "outputId": "7375015e-14ee-4cdf-be0c-2a03af7554fe",
    "scrolled": true
   },
   "outputs": [
    {
     "data": {
      "image/png": "[encoded data removed]",
      "text/plain": [
       "<Figure size 432x288 with 1 Axes>"
      ]
     },
     "metadata": {
      "needs_background": "light"
     },
     "output_type": "display_data"
    }
   ],
   "source": [
    "plt.boxplot(indegree_dist)\n",
    "plt.ylabel('No Of Followers')\n",
    "plt.show()"
   ]
  },
  {
   "cell_type": "markdown",
   "metadata": {},
   "source": [
    "<h4> Observations </h4>\n",
    "\n",
    "* It is very difficult to read the boxplot that we have obtained over here :- Our 0th, 25th, 50th as well as 75th percentile values, all of them are fairly small.\n",
    "* There are very few outliers present over here ie. very few users have many followers. Most of the users do not have any followers."
   ]
  },
  {
   "cell_type": "code",
   "execution_count": 8,
   "metadata": {
    "colab": {},
    "colab_type": "code",
    "id": "FhifjG6RORl6",
    "outputId": "a941fdf1-aee3-49db-c0b3-2e645c67a8b4"
   },
   "outputs": [
    {
     "name": "stdout",
     "output_type": "stream",
     "text": [
      "90 percentile value is 12.0\n",
      "91 percentile value is 13.0\n",
      "92 percentile value is 14.0\n",
      "93 percentile value is 15.0\n",
      "94 percentile value is 17.0\n",
      "95 percentile value is 19.0\n",
      "96 percentile value is 21.0\n",
      "97 percentile value is 24.0\n",
      "98 percentile value is 29.0\n",
      "99 percentile value is 40.0\n",
      "100 percentile value is 552.0\n"
     ]
    }
   ],
   "source": [
    "#Having a look at the number of followers from the 90th to the 100th percentile.\n",
    "# 90-100 percentile\n",
    "for i in range(0,11):\n",
    "    print(90+i,'percentile value is',np.percentile(indegree_dist,90+i))"
   ]
  },
  {
   "cell_type": "markdown",
   "metadata": {},
   "source": [
    "<h4> Observations </h4>\n",
    "\n",
    "* 90% of our users have less than 12 followers.\n",
    "* 99% of our users have their follower count less than or equal to 40.\n",
    "* There is one user with 552 followers."
   ]
  },
  {
   "cell_type": "code",
   "execution_count": 9,
   "metadata": {
    "colab": {},
    "colab_type": "code",
    "id": "9Jl6nJ-2ORl-",
    "outputId": "7c2012f1-9a96-48de-e8c5-9963eadfa56e"
   },
   "outputs": [
    {
     "name": "stdout",
     "output_type": "stream",
     "text": [
      "99.1 percentile value is 42.0\n",
      "99.2 percentile value is 44.0\n",
      "99.3 percentile value is 47.0\n",
      "99.4 percentile value is 50.0\n",
      "99.5 percentile value is 55.0\n",
      "99.6 percentile value is 61.0\n",
      "99.7 percentile value is 70.0\n",
      "99.8 percentile value is 84.0\n",
      "99.9 percentile value is 112.0\n",
      "100.0 percentile value is 552.0\n"
     ]
    }
   ],
   "source": [
    "# Zooming in further from 99th percentile -100th percentile\n",
    "for i in range(10,110,10):\n",
    "    print(99+(i/100),'percentile value is',np.percentile(indegree_dist,99+(i/100)))"
   ]
  },
  {
   "cell_type": "markdown",
   "metadata": {},
   "source": [
    "<h4> Observations </h4>\n",
    "\n",
    "* 99.9% of users in our social network have 112 or fewer followers.\n",
    "* This means that there are only 0.1% of users who have more than 112 followers."
   ]
  },
  {
   "cell_type": "code",
   "execution_count": 10,
   "metadata": {
    "colab": {},
    "colab_type": "code",
    "id": "UWJW9_RrORmB",
    "outputId": "ba1703e6-444b-4fab-8cb1-9bc8515324ce"
   },
   "outputs": [
    {
     "data": {
      "image/png": "[encoded data removed]",
      "text/plain": [
       "<Figure size 842.4x595.44 with 1 Axes>"
      ]
     },
     "metadata": {},
     "output_type": "display_data"
    }
   ],
   "source": [
    "#Plotting the PDF of in-degree\n",
    "\n",
    "%matplotlib inline\n",
    "sns.set_style('ticks')\n",
    "fig, ax = plt.subplots()\n",
    "fig.set_size_inches(11.7, 8.27)\n",
    "sns.distplot(indegree_dist, color='#16A085')\n",
    "plt.xlabel('PDF of Indegree')\n",
    "sns.despine()\n",
    "#plt.show()\n",
    "\n",
    "#Green Bar obtained over here refers to the histogram whereas the curve obtained is the smoothed out PDF."
   ]
  },
  {
   "cell_type": "markdown",
   "metadata": {},
   "source": [
    "<h4> Observations </h4>\n",
    "\n",
    "* Most users have a very small number of followers."
   ]
  },
  {
   "cell_type": "markdown",
   "metadata": {
    "colab_type": "text",
    "id": "fjGhgPp2ORmH"
   },
   "source": [
    "## 1.2 No of people each person is following"
   ]
  },
  {
   "cell_type": "code",
   "execution_count": 11,
   "metadata": {
    "colab": {},
    "colab_type": "code",
    "id": "kTqMlVSQORmI",
    "outputId": "f30734d8-5a82-402a-f035-277e17bef8dc"
   },
   "outputs": [
    {
     "data": {
      "image/png": "[encoded data removed]",
      "text/plain": [
       "<Figure size 720x432 with 1 Axes>"
      ]
     },
     "metadata": {},
     "output_type": "display_data"
    }
   ],
   "source": [
    "outdegree_dist = list(dict(g.out_degree()).values())\n",
    "outdegree_dist.sort() #sorting the out-degrees\n",
    "\n",
    "plt.figure(figsize=(10,6))\n",
    "plt.plot(outdegree_dist)\n",
    "plt.xlabel('Index No')\n",
    "plt.ylabel('No Of people each person is following')\n",
    "plt.show()"
   ]
  },
  {
   "cell_type": "markdown",
   "metadata": {},
   "source": [
    "<h4> Observations </h4>\n",
    "\n",
    "* We can easily say that the number of people that a particular user is following is the same as out-degree. Eg:- If my out-degree is 3, it means that I am following 3 other users.\n",
    "* Most people are following very few number of people. \n",
    "* The maximum number of people that a particular user is following is not more than 1600."
   ]
  },
  {
   "cell_type": "code",
   "execution_count": 12,
   "metadata": {
    "colab": {},
    "colab_type": "code",
    "id": "k7Nx6PJJORmL",
    "outputId": "6041d456-0bd3-47da-fc74-24199e5786dd"
   },
   "outputs": [
    {
     "data": {
      "image/png": "[encoded data removed]",
      "text/plain": [
       "<Figure size 720x432 with 1 Axes>"
      ]
     },
     "metadata": {},
     "output_type": "display_data"
    }
   ],
   "source": [
    "outdegree_dist = list(dict(g.out_degree()).values())\n",
    "outdegree_dist.sort()\n",
    "\n",
    "plt.figure(figsize=(10,6))\n",
    "plt.plot(outdegree_dist[0:1500000])\n",
    "plt.xlabel('Index No')\n",
    "plt.ylabel('No Of people each person is following')\n",
    "plt.show()"
   ]
  },
  {
   "cell_type": "markdown",
   "metadata": {},
   "source": [
    "<h4> Observations </h4>\n",
    "\n",
    "* There are approximately 250K users who are not following any user.\n",
    "* There are approximately 540K users who are following only 1 user. (790K - 250K)\n",
    "* There are approximately 220K users who are following 2 users, and so on.\n",
    "* Even this curve that we obtained is fairly steep once it is smoothened. But we get an idea that approx. 1.5 Million of our users follow less than or equal to 7 users."
   ]
  },
  {
   "cell_type": "code",
   "execution_count": 13,
   "metadata": {
    "colab": {},
    "colab_type": "code",
    "id": "BlEw-IrTORmO",
    "outputId": "81295b21-6b70-4359-a21f-c71286fd8a7c"
   },
   "outputs": [
    {
     "data": {
      "image/png": "[encoded data removed]",
      "text/plain": [
       "<Figure size 432x288 with 1 Axes>"
      ]
     },
     "metadata": {},
     "output_type": "display_data"
    }
   ],
   "source": [
    "plt.boxplot(indegree_dist)\n",
    "plt.ylabel('No Of people each person is following')\n",
    "plt.show()"
   ]
  },
  {
   "cell_type": "markdown",
   "metadata": {},
   "source": [
    "<h4> Observations </h4>\n",
    "\n",
    "* It is very difficult to read the boxplot that we have obtained over here :- Our 0th, 25th, 50th as well as 75th percentile values, all of them are fairly small."
   ]
  },
  {
   "cell_type": "code",
   "execution_count": 14,
   "metadata": {
    "colab": {},
    "colab_type": "code",
    "id": "mCiWqsBeORmS",
    "outputId": "4de31fbc-cd51-4b1a-9638-fe2d069c9ff9"
   },
   "outputs": [
    {
     "name": "stdout",
     "output_type": "stream",
     "text": [
      "90 percentile value is 12.0\n",
      "91 percentile value is 13.0\n",
      "92 percentile value is 14.0\n",
      "93 percentile value is 15.0\n",
      "94 percentile value is 17.0\n",
      "95 percentile value is 19.0\n",
      "96 percentile value is 21.0\n",
      "97 percentile value is 24.0\n",
      "98 percentile value is 29.0\n",
      "99 percentile value is 40.0\n",
      "100 percentile value is 1566.0\n"
     ]
    }
   ],
   "source": [
    "#Having a look at the number of people being followed from the 90th to the 100th percentile.\n",
    "\n",
    "for i in range(0,11):\n",
    "    print(90+i,'percentile value is',np.percentile(outdegree_dist,90+i))"
   ]
  },
  {
   "cell_type": "markdown",
   "metadata": {},
   "source": [
    "<h4> Observations </h4>\n",
    "\n",
    "* 90% of users in this social network are following less than 12 users.\n",
    "* 99% of users in this social network have their follower count less than or equal to 40."
   ]
  },
  {
   "cell_type": "code",
   "execution_count": 15,
   "metadata": {
    "colab": {},
    "colab_type": "code",
    "id": "aHVdrxfAORmW",
    "outputId": "fc59d234-b201-4548-bee2-b4b45141916d"
   },
   "outputs": [
    {
     "name": "stdout",
     "output_type": "stream",
     "text": [
      "99.1 percentile value is 42.0\n",
      "99.2 percentile value is 45.0\n",
      "99.3 percentile value is 48.0\n",
      "99.4 percentile value is 52.0\n",
      "99.5 percentile value is 56.0\n",
      "99.6 percentile value is 63.0\n",
      "99.7 percentile value is 73.0\n",
      "99.8 percentile value is 90.0\n",
      "99.9 percentile value is 123.0\n",
      "100.0 percentile value is 1566.0\n"
     ]
    }
   ],
   "source": [
    "#Having a look at the number of people being followed from 99th to the 100th percentile.\n",
    "\n",
    "for i in range(10,110,10):\n",
    "    print(99+(i/100),'percentile value is',np.percentile(outdegree_dist,99+(i/100)))"
   ]
  },
  {
   "cell_type": "markdown",
   "metadata": {},
   "source": [
    "<h4> Observations </h4>\n",
    "\n",
    "* 99.9% of users in this social network are following less than 123 users.\n",
    "* However there is one person who is following 1566 people."
   ]
  },
  {
   "cell_type": "code",
   "execution_count": 16,
   "metadata": {
    "colab": {},
    "colab_type": "code",
    "id": "v_-KMWvUORma",
    "outputId": "a830a18b-a662-460c-a4c4-f177d8be1142"
   },
   "outputs": [
    {
     "data": {
      "image/png": "[encoded data removed]",
      "text/plain": [
       "<Figure size 842.4x595.44 with 1 Axes>"
      ]
     },
     "metadata": {},
     "output_type": "display_data"
    }
   ],
   "source": [
    "sns.set_style('ticks')\n",
    "fig, ax = plt.subplots()\n",
    "fig.set_size_inches(11.7, 8.27)\n",
    "sns.distplot(outdegree_dist, color='#16A085')\n",
    "plt.xlabel('PDF of Outdegree')\n",
    "sns.despine()"
   ]
  },
  {
   "cell_type": "markdown",
   "metadata": {},
   "source": [
    "<h4> Observations </h4>\n",
    "\n",
    "* Exactly like in the previous case, the Histogram or PDF looks very skewed."
   ]
  },
  {
   "cell_type": "code",
   "execution_count": 17,
   "metadata": {
    "colab": {},
    "colab_type": "code",
    "id": "gq06cAPsORmd",
    "outputId": "f0e8b053-4472-4ee5-ff27-d3e51511f00d"
   },
   "outputs": [
    {
     "name": "stdout",
     "output_type": "stream",
     "text": [
      "No of persons those are not following anyone are 274512 and % is 14.741115442858524\n"
     ]
    }
   ],
   "source": [
    "print('No of persons those are not following anyone are' ,sum(np.array(outdegree_dist)==0),'and % is',\n",
    "                                sum(np.array(outdegree_dist)==0)*100/len(outdegree_dist) )"
   ]
  },
  {
   "cell_type": "code",
   "execution_count": 18,
   "metadata": {
    "colab": {},
    "colab_type": "code",
    "id": "28WmUtuwORml",
    "outputId": "c86d645b-2e19-41c7-a8e4-c72511347ce0"
   },
   "outputs": [
    {
     "name": "stdout",
     "output_type": "stream",
     "text": [
      "No of persons having zero followers are 188043 and % is 10.097786512871734\n"
     ]
    }
   ],
   "source": [
    "print('No of persons having zero followers are' ,sum(np.array(indegree_dist)==0),'and % is',\n",
    "                                sum(np.array(indegree_dist)==0)*100/len(indegree_dist) )"
   ]
  },
  {
   "cell_type": "code",
   "execution_count": 19,
   "metadata": {
    "colab": {},
    "colab_type": "code",
    "id": "afwOk-EAORmr",
    "outputId": "3490b130-6a6c-43be-d5f3-84751e0092bb"
   },
   "outputs": [
    {
     "name": "stdout",
     "output_type": "stream",
     "text": [
      "No of persons those are not not following anyone and also not having any followers are 0\n"
     ]
    }
   ],
   "source": [
    "count=0\n",
    "for i in g.nodes():\n",
    "    if len(list(g.predecessors(i)))==0 :\n",
    "        if len(list(g.successors(i)))==0:\n",
    "            count+=1\n",
    "print('No of persons those are not not following anyone and also not having any followers are',count)"
   ]
  },
  {
   "cell_type": "markdown",
   "metadata": {
    "colab_type": "text",
    "id": "fCRpdjITORmu"
   },
   "source": [
    "## 1.3 Both Followers + Following "
   ]
  },
  {
   "cell_type": "markdown",
   "metadata": {},
   "source": [
    "<h4> Degree </h4>\n",
    "\n",
    "* A particular user will have both edges that are coming in (in-degree) as well as the edges that are going out (out-degree).\n",
    "* If you count all of these edges (that are going out as well as coming in) equally, we obtain the degree. \n",
    "        ie. Degree (vertex) = In-degree(vertex) + Out-degree(vertex)\n",
    "     for a graph G, where G is a Directed Graph."
   ]
  },
  {
   "cell_type": "code",
   "execution_count": 20,
   "metadata": {
    "colab": {},
    "colab_type": "code",
    "id": "W7v68L-mORmv"
   },
   "outputs": [],
   "source": [
    "from collections import Counter\n",
    "dict_in = dict(g.in_degree())\n",
    "dict_out = dict(g.out_degree())\n",
    "d = Counter(dict_in) + Counter(dict_out) #summing up both in-degree and out-degree\n",
    "in_out_degree = np.array(list(d.values()))"
   ]
  },
  {
   "cell_type": "code",
   "execution_count": 21,
   "metadata": {
    "colab": {},
    "colab_type": "code",
    "id": "6msC6dluORmy",
    "outputId": "3927c610-60b6-45bd-f325-559b7046e8e3",
    "scrolled": false
   },
   "outputs": [
    {
     "data": {
      "image/png": "[encoded data removed]",
      "text/plain": [
       "<Figure size 720x432 with 1 Axes>"
      ]
     },
     "metadata": {},
     "output_type": "display_data"
    }
   ],
   "source": [
    "in_out_degree_sort = sorted(in_out_degree)\n",
    "plt.figure(figsize=(10,6))\n",
    "plt.plot(in_out_degree_sort)\n",
    "plt.xlabel('Index No')\n",
    "plt.ylabel('No Of people each person is following + followers')\n",
    "plt.show()"
   ]
  },
  {
   "cell_type": "markdown",
   "metadata": {},
   "source": [
    "<h4> Observations </h4>\n",
    "\n",
    "* Again we can see extreme skews, the same way that we found in the case of in-degree and out-degree. We can notice from this graph that most of the people have a degree less than 200.\n",
    "* The highest value of degree over here for a particular use is approximately 1600."
   ]
  },
  {
   "cell_type": "code",
   "execution_count": 22,
   "metadata": {
    "colab": {},
    "colab_type": "code",
    "id": "QralmNoAORm2",
    "outputId": "10898a00-65ab-484c-b053-10dbed76109b"
   },
   "outputs": [
    {
     "data": {
      "image/png": "[encoded data removed]",
      "text/plain": [
       "<Figure size 720x432 with 1 Axes>"
      ]
     },
     "metadata": {},
     "output_type": "display_data"
    }
   ],
   "source": [
    "in_out_degree_sort = sorted(in_out_degree)\n",
    "plt.figure(figsize=(10,6))\n",
    "plt.plot(in_out_degree_sort[0:1500000])\n",
    "plt.xlabel('Index No')\n",
    "plt.ylabel('No Of people each person is following + followers')\n",
    "plt.show()"
   ]
  },
  {
   "cell_type": "markdown",
   "metadata": {},
   "source": [
    "<h4> Observations </h4>\n",
    "\n",
    "* There are approximately 280K users whose sum of (Followers + Following) is 1. \n",
    "* There are approximately 320K users whose sum of (Followers + Following) is 2.\n",
    "* Even this curve that we obtained is fairly steep once it is smoothened. We get an idea that approx. 1.5 Million of our users have their degree less than 14."
   ]
  },
  {
   "cell_type": "code",
   "execution_count": 23,
   "metadata": {
    "colab": {},
    "colab_type": "code",
    "id": "tw981sJQORm6",
    "outputId": "c1239a0e-713e-4f39-ef87-619a1adba3fb"
   },
   "outputs": [
    {
     "name": "stdout",
     "output_type": "stream",
     "text": [
      "90 percentile value is 24.0\n",
      "91 percentile value is 26.0\n",
      "92 percentile value is 28.0\n",
      "93 percentile value is 31.0\n",
      "94 percentile value is 33.0\n",
      "95 percentile value is 37.0\n",
      "96 percentile value is 41.0\n",
      "97 percentile value is 48.0\n",
      "98 percentile value is 58.0\n",
      "99 percentile value is 79.0\n",
      "100 percentile value is 1579.0\n"
     ]
    }
   ],
   "source": [
    "#Having a look at (Number of Followers + Number of Followees) from 90th to the 100th percentile.\n",
    "\n",
    "for i in range(0,11):\n",
    "    print(90+i,'percentile value is',np.percentile(in_out_degree_sort,90+i))"
   ]
  },
  {
   "cell_type": "markdown",
   "metadata": {},
   "source": [
    "<h4> Observations </h4>\n",
    "\n",
    "* 90% of users in this social network are having a degree less than or equal to 24.\n",
    "* 99% of users in this social network are having a degree less than or equal to 79."
   ]
  },
  {
   "cell_type": "code",
   "execution_count": 24,
   "metadata": {
    "colab": {},
    "colab_type": "code",
    "id": "h67hARicORm-",
    "outputId": "9e4cc8c8-04a2-4ea4-f0df-edab297b3b25"
   },
   "outputs": [
    {
     "name": "stdout",
     "output_type": "stream",
     "text": [
      "99.1 percentile value is 83.0\n",
      "99.2 percentile value is 87.0\n",
      "99.3 percentile value is 93.0\n",
      "99.4 percentile value is 99.0\n",
      "99.5 percentile value is 108.0\n",
      "99.6 percentile value is 120.0\n",
      "99.7 percentile value is 138.0\n",
      "99.8 percentile value is 168.0\n",
      "99.9 percentile value is 221.0\n",
      "100.0 percentile value is 1579.0\n"
     ]
    }
   ],
   "source": [
    "#Having a look at (Number of Followers + Number of Followees) from 90th to the 100th percentile.\n",
    "\n",
    "for i in range(10,110,10):\n",
    "    print(99+(i/100),'percentile value is',np.percentile(in_out_degree_sort,99+(i/100)))"
   ]
  },
  {
   "cell_type": "markdown",
   "metadata": {},
   "source": [
    "<h4> Observations </h4>\n",
    "\n",
    "* 99.9% of users in this social network are having a degree less than 221.\n",
    "* However there is one person in this social network who is having a degree of 1579."
   ]
  },
  {
   "cell_type": "code",
   "execution_count": 25,
   "metadata": {
    "colab": {},
    "colab_type": "code",
    "id": "BHT0CMUzORnB",
    "outputId": "e05da28d-e48e-446c-9a91-2e1eb9836dfe"
   },
   "outputs": [
    {
     "name": "stdout",
     "output_type": "stream",
     "text": [
      "Min of no of followers + following is 1\n",
      "334291  persons having minimum no of followers + following\n"
     ]
    }
   ],
   "source": [
    "print('Min of no of followers + following is',in_out_degree.min())\n",
    "print(np.sum(in_out_degree==in_out_degree.min()),' persons having minimum no of followers + following')"
   ]
  },
  {
   "cell_type": "code",
   "execution_count": 26,
   "metadata": {
    "colab": {},
    "colab_type": "code",
    "id": "D_ulBWM3ORnG",
    "outputId": "f589aed6-a8bd-477e-daab-90471e7a5704"
   },
   "outputs": [
    {
     "name": "stdout",
     "output_type": "stream",
     "text": [
      "Max of no of followers + following is 1579\n",
      "1  persons having maximum no of followers + following\n"
     ]
    }
   ],
   "source": [
    "print('Max of no of followers + following is',in_out_degree.max())\n",
    "print(np.sum(in_out_degree==in_out_degree.max()),' persons having maximum no of followers + following')"
   ]
  },
  {
   "cell_type": "code",
   "execution_count": 27,
   "metadata": {
    "colab": {},
    "colab_type": "code",
    "id": "6a61nDvYORnK",
    "outputId": "f8c14a15-0e92-43de-a8cf-65e1a14e3faa"
   },
   "outputs": [
    {
     "name": "stdout",
     "output_type": "stream",
     "text": [
      "No of persons having followers + following less than 10 are 1320326\n"
     ]
    }
   ],
   "source": [
    "print('No of persons having followers + following less than 10 are',np.sum(in_out_degree<10))"
   ]
  },
  {
   "cell_type": "code",
   "execution_count": 28,
   "metadata": {
    "colab": {},
    "colab_type": "code",
    "id": "tGkfI4aRORnO",
    "outputId": "fcbb124c-4394-422c-a963-1dc3895f4afd"
   },
   "outputs": [
    {
     "name": "stdout",
     "output_type": "stream",
     "text": [
      "No of weakly connected components 45558\n",
      "weakly connected components with 2 nodes 32195\n"
     ]
    }
   ],
   "source": [
    "print('No of weakly connected components',len(list(nx.weakly_connected_components(g))))\n",
    "count=0\n",
    "for i in list(nx.weakly_connected_components(g)):\n",
    "    if len(i)==2:\n",
    "        count+=1\n",
    "print('weakly connected components with 2 nodes',count)"
   ]
  },
  {
   "cell_type": "markdown",
   "metadata": {
    "colab_type": "text",
    "id": "u6uqmjurORnT"
   },
   "source": [
    "# 2. Posing a problem as a Classification Problem "
   ]
  },
  {
   "cell_type": "markdown",
   "metadata": {},
   "source": [
    "* We basically represent '1' as having an edge between 2 vertices and '0' as not having an edge between 2 vertices.\n",
    "* In the Classification Task that we carry out, some datapoints in the Training Data have to be class 0 and some datapoints have to belong to class 1.\n",
    "* But the problem if we try to pose this as a Binary Classification Task is that the dataset table that we have available over here simply consists of all those vertex pairs that are having an edge ie. we only have class 1 available in our dataset.\n",
    "     Eg :- Assume that in the graph there is an edge between U(1) and U(5) as well as between U(1) and U(6). If there is no edge present between U(1) and U(2), this information is not present in our dataset ie. in facebook_train.csv.\n",
    "     \n",
    "* Now here we do not have the '0'-labelled datapoints and also there is no edge present between U(1) and U(2).Hence what we can do is that to the 'facebook_train.csv' we can add [U(1),U(2)] and provide it a class label = 0, since there is no edge between these vertices."
   ]
  },
  {
   "cell_type": "markdown",
   "metadata": {
    "colab_type": "text",
    "id": "dZYvDAwDORnU"
   },
   "source": [
    "## 2.1 Generating some edges which are not present in graph for supervised learning  \n",
    "Generated Bad links from graph which are not in graph and whose shortest path is greater than 2. "
   ]
  },
  {
   "cell_type": "markdown",
   "metadata": {},
   "source": [
    "**Problem**\n",
    "\n",
    "* Given our dataset we have a total of 1.86 Million nodes and a total of 9.43 Million edges.\n",
    "\n",
    "The **Question** becomes the following :- How many edges can be present in the Directed Graph G?\n",
    "* If you have a vertex U(i), you can have an edge from U(i) to any of the other vertices. \n",
    "* Hence if you have a total of n vertices, for every vertex you can have (n-1) edges ie. a directed edge to all of its neighbours. ie for each node we can have (n-1) directed edges.\n",
    "* Therefore, for n nodes we can have n(n-1) directed edges.\n",
    "* Thus, if we have 1.86 Million nodes/vertices, the number of possible edges in this scenario is massive. \n",
    "    Number of possible edges = n(n-1) = 1.86 Million (1.86 Million - 1) =\n",
    "    We obtain a result of the order of 10^12.\n",
    "* Notice that of this very massive number only a percentage of the edges occur ie. only 9.43 Million edges occur.\n",
    "* All of the pairs of vertices between which there is an edge present is readily available in our 'facebook_train.csv' file. Besides this, there is a massive set of all the possible edges that are not present -> These can be called 'Bad Edges' for simplicity.\n",
    "\n",
    "    Bad Edge -> One of the edges that is possible in the Graph G but is not present.\n",
    "* Therefore we sample the vertex pairs like [U(i'),U(j')] randomly and create a dataset. { Note :- [U(i'),U(j')] = Class 0}\n",
    "\n",
    "**Summary** \n",
    "\n",
    "* 'facebook_train.csv' is already providing us with all the Class 1 labelled pairs of vertices and for the class 0 pairs of vertices we can create a random subset of pairs of vertices between which there is no edge but there could exist an edge. \n",
    "* Also we need to remember that in the Classification Task it is always good to have the number of datapoints for the +ve and -ve classes to be of the same number so that we obtain a Balanced Dataset.\n",
    "* There are already 9.43 Million . pairs of vertices between which there is an edge. Thus we will create a random subset of 9.43 Million pairs of vertices between which there is no edge.\n",
    "\n",
    "* **Sanity Check :- We will introduce only those pairs of vertices as class 0 where the shortest path length is greater than 2. The reasoning for the same is as follows :-**\n",
    "* Consider vertices U(1) and U(3) :- U(1) is a user following U(2) and U(2) is a user following U(3). So there is a very high chance that U(1) would eventually follow U(3) because these 3 users could actually be friends. Hence we will not add [U(1),U(3)] to our dataset as a 0-labelled datapoint.\n",
    "* Hence we will let only those pairs of vertices with path length >=2 to be potentially present in our dataset as a 0-labelled pair of vertices.\n",
    "\n",
    "<h3> Final Algorithm </h3>\n",
    "\n",
    "* You randomly sample 2 vertices [U(a),U(b)] and check if there already exists an edge between U(a) and U(b).\n",
    "* If there is no edge present between U(a) and U(b) and the shortest path length between these 2 users is greater than 2, we will add the vertices to a list called 'missing_edges'. {These will be the 0-labelled pairs of vertices.}"
   ]
  },
  {
   "cell_type": "code",
   "execution_count": 29,
   "metadata": {
    "colab": {},
    "colab_type": "code",
    "id": "1YVbbdL1ORnW",
    "outputId": "6194a258-f8bd-42c5-87b9-a5ac25ce44f4"
   },
   "outputs": [
    {
     "name": "stdout",
     "output_type": "stream",
     "text": [
      "CPU times: user 1.9 s, sys: 816 ms, total: 2.72 s\n",
      "Wall time: 2.71 s\n"
     ]
    }
   ],
   "source": [
    "%%time\n",
    "###generating bad edges from given graph\n",
    "import random\n",
    "if not os.path.isfile('data/after_eda/missing_edges_final.p'):\n",
    "    #getting all set of edges\n",
    "    r = csv.reader(open('data/after_eda/train_woheader.csv','r'))\n",
    "    edges = dict()\n",
    "    for edge in r:\n",
    "        edges[(edge[0], edge[1])] = 1\n",
    "        \n",
    "        \n",
    "    missing_edges = set([])\n",
    "    while (len(missing_edges)<9437519):\n",
    "        a=random.randint(1, 1862220)\n",
    "        b=random.randint(1, 1862220)\n",
    "        tmp = edges.get((a,b),-1)\n",
    "        if tmp == -1 and a!=b:\n",
    "            try:\n",
    "                if nx.shortest_path_length(g,source=a,target=b) > 2: \n",
    "\n",
    "                    missing_edges.add((a,b))\n",
    "                else:\n",
    "                    continue  \n",
    "            except:  \n",
    "                    missing_edges.add((a,b))              \n",
    "        else:\n",
    "            continue\n",
    "    pickle.dump(missing_edges,open('data/after_eda/missing_edges_final.p','wb'))\n",
    "else:\n",
    "    missing_edges = pickle.load(open('data/after_eda/missing_edges_final.p','rb'))"
   ]
  },
  {
   "cell_type": "code",
   "execution_count": 30,
   "metadata": {
    "colab": {},
    "colab_type": "code",
    "id": "7gVf5nUwORnb",
    "outputId": "87f55f93-af33-405c-a7c4-8ec42c108b8c"
   },
   "outputs": [
    {
     "data": {
      "text/plain": [
       "9437519"
      ]
     },
     "execution_count": 30,
     "metadata": {},
     "output_type": "execute_result"
    }
   ],
   "source": [
    "len(missing_edges)"
   ]
  },
  {
   "cell_type": "markdown",
   "metadata": {
    "colab_type": "text",
    "id": "JOFQEKhjORne"
   },
   "source": [
    "## 2.2 Training,CV and Test data split:  \n",
    "Removed edges from Graph and used as test data and after removing used that graph for creating features for Train and test data.\n",
    "\n",
    "<h3> Problem </h3>\n",
    "\n",
    "* At the end of the day we want our data to be split into Train, CV and Test. However there is a problem with directly carrying this out on the final dataset that we obtained at the end of \"Section 2.1\".\n",
    "* Imagine that in the real world you were an engineer at Facebook or Instagram. \n",
    "* Remember that this final dataset that we obtained is at a particular instance of time, say time = t, where you have the source vertex, destination vertex as well as the corresponding class label available. \n",
    "* However, in the real world this graph will be evolving/changing over time. Say, after a period of 30 days, this graph would have changed. (Some people would have started following other people and some people would have unfollowed others). -> **This means that the dataset that we have is actually a Temporal Changing Data. We need to remember that when this data is temporarily changing, we need to build our Train and Test datasets taking this temporal data change into consideration.**\n",
    "\n",
    "* Suppose we were trying to productionize a system at time t. In the actual engineering scenario at Facebook/Instagram we would have the graph with us both at time t as well as time (t+30).\n",
    "* For any model that is being deployed at time t we would like to predict the edges. We can also validate how well our model performed because once you productionize at time t, it will start showing recommendtations from time t. We would have the actual data about whether our friend/follow recommendations are working or not.\n",
    "* Therefore, because of this temporal nature of the data, if this was actually an engineering task at Facebook/Instagram, we would have carried  out Time Based Splitting.\n",
    "* But unfortunately for us, we have only been provided with a single data matrix or graph at time t. (Basically no time stamp has been provided to us -> Timestamp when the Source started following the destination. If timestamp was provided to us, we would have used the oldest data to build the model to predict the new edges that will be made in the future.)\n",
    "* Since we have not been provided with Timestamp in the dataset, all that we are left with is a Random split of the data :- Random Data split is not the ideal thing to do and would not be employed in the real world."
   ]
  },
  {
   "cell_type": "code",
   "execution_count": 31,
   "metadata": {
    "colab": {},
    "colab_type": "code",
    "id": "GJHTrPXEORng",
    "outputId": "2aa58c45-7a99-40cc-8882-653faa7837f9"
   },
   "outputs": [],
   "source": [
    "from sklearn.model_selection import train_test_split\n",
    "\n",
    "if (not os.path.isfile('data/after_eda/train_pos_after_eda.csv')) \\\n",
    "and (not os.path.isfile('data/after_eda/test_pos_after_eda.csv')) \\\n",
    "and (not os.path.isfile('data/after_eda/cv_pos_after_eda.csv')):\n",
    "    \n",
    "    #reading total data df\n",
    "    df_pos = pd.read_csv('data/facebook_train.csv')\n",
    "    df_neg = pd.DataFrame(list(missing_edges), columns=['source_node', 'destination_node'])\n",
    "    \n",
    "    print(\"Number of nodes in the graph with edges\", df_pos.shape[0])\n",
    "    print(\"Number of nodes in the graph without edges\", df_neg.shape[0])\n",
    "    \n",
    "    #Trian test split \n",
    "    #Data split into 80-20 -> 80% dataset for (Train+ CV) \n",
    "    #positive links and negative links seperatly because we need positive training data only for creating graph \n",
    "    #and for feature generation\n",
    "    X_train_pos, X_test_pos, y_train_pos, y_test_pos  = train_test_split(df_pos,np.ones(len(df_pos)),test_size=0.2, random_state=9)\n",
    "    X_train_final_pos, X_cv_pos,y_train_final_pos,y_cv_pos = train_test_split(X_train_pos,np.ones(len(X_train_pos)),test_size=0.2,random_state=9)\n",
    "    \n",
    "    X_train_neg, X_test_neg, y_train_neg, y_test_neg  = train_test_split(df_neg,np.zeros(len(df_neg)),test_size=0.2, random_state=9)\n",
    "    X_train_final_neg, X_cv_neg, y_train_final_neg, y_cv_neg  = train_test_split(X_train_neg,np.zeros(len(X_train_neg)),test_size=0.2, random_state=9)\n",
    "    \n",
    "    print('='*60)\n",
    "    print(\"Number of nodes in the train data graph with edges\", X_train_final_pos.shape[0],\"=\",y_train_final_pos.shape[0])\n",
    "    print(\"Number of nodes in the train data graph without edges\", X_train_final_neg.shape[0],\"=\", y_train_final_neg.shape[0])\n",
    "    \n",
    "    print('='*60)\n",
    "    print(\"Number of nodes in the cv data graph with edges\", X_cv_pos.shape[0],\"=\",y_cv_pos.shape[0])\n",
    "    print(\"Number of nodes in the cv data graph without edges\", X_cv_neg.shape[0],\"=\", y_cv_neg.shape[0])\n",
    "    \n",
    "    print('='*60)\n",
    "    print(\"Number of nodes in the test data graph with edges\", X_test_pos.shape[0],\"=\",y_test_pos.shape[0])\n",
    "    print(\"Number of nodes in the test data graph without edges\", X_test_neg.shape[0],\"=\",y_test_neg.shape[0])\n",
    "\n",
    "    #removing header and saving\n",
    "    X_train_final_pos.to_csv('data/after_eda/train_pos_after_eda.csv',header=False, index=False)\n",
    "    X_cv_pos.to_csv('data/after_eda/cv_pos_after_eda.csv',header=False, index=False)\n",
    "    X_test_pos.to_csv('data/after_eda/test_pos_after_eda.csv',header=False, index=False)\n",
    "    \n",
    "    X_train_final_neg.to_csv('data/after_eda/train_neg_after_eda.csv',header=False, index=False)\n",
    "    X_cv_neg.to_csv('data/after_eda/cv_neg_after_eda.csv',header=False, index=False)\n",
    "    X_test_neg.to_csv('data/after_eda/test_neg_after_eda.csv',header=False, index=False)\n",
    "else:\n",
    "    #Graph from Training data only \n",
    "    del missing_edges"
   ]
  },
  {
   "cell_type": "code",
   "execution_count": 32,
   "metadata": {
    "colab": {},
    "colab_type": "code",
    "id": "qW7fX9OuORnk",
    "outputId": "abe6214e-5c52-4a64-b48d-ca59caed7df6"
   },
   "outputs": [
    {
     "name": "stdout",
     "output_type": "stream",
     "text": [
      "A Summary of the Train Dataset:\n",
      "Name: \n",
      "Type: DiGraph\n",
      "Number of nodes: 1688330\n",
      "Number of edges: 6040012\n",
      "Average in degree:   3.5775\n",
      "Average out degree:   3.5775\n",
      "                                                                                                    \n",
      "A Summary of the CV Dataset:\n",
      "Name: \n",
      "Type: DiGraph\n",
      "Number of nodes: 1041288\n",
      "Number of edges: 1510003\n",
      "Average in degree:   1.4501\n",
      "Average out degree:   1.4501\n",
      "                                                                                                    \n",
      "A Summary of the Test Dataset:\n",
      "Name: \n",
      "Type: DiGraph\n",
      "Number of nodes: 1144623\n",
      "Number of edges: 1887504\n",
      "Average in degree:   1.6490\n",
      "Average out degree:   1.6490\n",
      "                                                                                                    \n",
      "no of people common in train and test --  1033844\n",
      "no of people present in train but not present in test --  654486\n",
      "no of people present in test but not present in train --  110779\n",
      " % of people not there in Train but exist in Test in total Test data are 9.678208458156092 %\n"
     ]
    }
   ],
   "source": [
    "if (os.path.isfile('data/after_eda/train_pos_after_eda.csv')) and \\\n",
    "(os.path.isfile('data/after_eda/test_pos_after_eda.csv')) and \\\n",
    "(os.path.isfile('data/after_eda/cv_pos_after_eda.csv')):        \n",
    "    \n",
    "    train_graph=nx.read_edgelist('data/after_eda/train_pos_after_eda.csv',delimiter=',',create_using=nx.DiGraph(),nodetype=int)\n",
    "    cv_graph=nx.read_edgelist('data/after_eda/cv_pos_after_eda.csv',delimiter=',',create_using=nx.DiGraph(),nodetype=int)\n",
    "    test_graph=nx.read_edgelist('data/after_eda/test_pos_after_eda.csv',delimiter=',',create_using=nx.DiGraph(),nodetype=int)\n",
    "    \n",
    "    print('A Summary of the Train Dataset:')\n",
    "    print(nx.info(train_graph))\n",
    "    print(\" \"*100)\n",
    "    print('A Summary of the CV Dataset:')\n",
    "    print(nx.info(cv_graph))\n",
    "    print(\" \"*100)\n",
    "    print('A Summary of the Test Dataset:')\n",
    "    print(nx.info(test_graph))\n",
    "    print(\" \"*100)\n",
    "\n",
    "    # finding the unique nodes in the both train and test graphs\n",
    "    train_nodes_pos = set(train_graph.nodes())\n",
    "    test_nodes_pos = set(test_graph.nodes())\n",
    "\n",
    "    trY_teY = len(train_nodes_pos.intersection(test_nodes_pos))\n",
    "    trY_teN = len(train_nodes_pos - test_nodes_pos)\n",
    "    teY_trN = len(test_nodes_pos - train_nodes_pos)\n",
    "\n",
    "    print('no of people common in train and test -- ',trY_teY)\n",
    "    print('no of people present in train but not present in test -- ',trY_teN)\n",
    "\n",
    "    print('no of people present in test but not present in train -- ',teY_trN)\n",
    "    print(' % of people not there in Train but exist in Test in total Test data are {} %'.format(teY_trN/len(test_nodes_pos)*100))"
   ]
  },
  {
   "cell_type": "markdown",
   "metadata": {},
   "source": [
    "<h4> Observations </h4>\n",
    "\n",
    "* In the Training Graph we have a total of 1.68 Million Nodes and a total of 6 Million edges. (We had split our data into Train,CV and Test based on the number of edges and not the number of nodes).\n",
    "* In the CV Graph we have a total of 1.04 Million Nodes and a total of 1.5 Million edges.\n",
    "* In the Test Graph we have a total of 1.14 Million Nodes and a total of 1.8 Million edges.\n",
    "* Average In-Degree and Out-Degree in the Training Data = 3.5775.\n",
    "* Average In-Degree and Out-Degree in the CV Data = 1.4501.\n",
    "* Average In-Degree and Out-Degree in the Test Data = 1.6490.\n",
    "* Basically, our Train Data has a total of 1.68 Million users whereas our Test Data has a total of 1.14 Million users. However there are only 1.03 Million users who are common to both the Train and Test Datasets.\n",
    "* Number of people present in the Train data but not present in Test Data = 654486.\n",
    "* Number of people present in the Test data but not present in the Train Data = 110779. \n",
    "* This particularly means that there are roughly 9.67% of users who are not present in the Training Data but they are present in the Test Data. Also we do not have any additional information about these users.\n",
    "\n",
    "***This means that we have a Cold Start Problem over here because for some users we have no other data available :- We have no information about these 110779 nodes in the Training Data at all and hence it is difficult for us to predict well for them. ***"
   ]
  },
  {
   "cell_type": "code",
   "execution_count": 33,
   "metadata": {
    "colab": {},
    "colab_type": "code",
    "id": "UDT9PGNWORno",
    "outputId": "aca3d101-033d-4c51-9ce1-8cfd4cff2d9f",
    "scrolled": false
   },
   "outputs": [],
   "source": [
    "#final train,cv and test data sets\n",
    "if (not os.path.isfile('data/after_eda/train_after_eda.csv')) and \\\n",
    "(not os.path.isfile('data/after_eda/cv_after_eda.csv')) and \\\n",
    "(not os.path.isfile('data/after_eda/test_after_eda.csv')) and \\\n",
    "(not os.path.isfile('data/train_y.csv')) and \\\n",
    "(not os.path.isfile('data/cv_y.csv')) and \\\n",
    "(not os.path.isfile('data/test_y.csv')) and \\\n",
    "(os.path.isfile('data/after_eda/train_pos_after_eda.csv')) and \\\n",
    "(os.path.isfile('data/after_eda/cv_pos_after_eda.csv')) and \\\n",
    "(os.path.isfile('data/after_eda/test_pos_after_eda.csv')) and \\\n",
    "(os.path.isfile('data/after_eda/train_neg_after_eda.csv')) and \\\n",
    "(os.path.isfile('data/after_eda/cv_neg_after_eda.csv')) and \\\n",
    "(os.path.isfile('data/after_eda/test_neg_after_eda.csv')):\n",
    "    \n",
    "    X_train_final_pos = pd.read_csv('data/after_eda/train_pos_after_eda.csv', names=['source_node', 'destination_node'])\n",
    "    X_cv_pos = pd.read_csv('data/after_eda/cv_pos_after_eda.csv', names = ['source_node', 'destination_node'])\n",
    "    X_test_pos = pd.read_csv('data/after_eda/test_pos_after_eda.csv', names=['source_node', 'destination_node'])\n",
    "    X_train_final_neg = pd.read_csv('data/after_eda/train_neg_after_eda.csv', names=['source_node', 'destination_node'])\n",
    "    X_cv_neg = pd.read_csv('data/after_eda/cv_neg_after_eda.csv', names =['source_node','destination_node'])\n",
    "    X_test_neg = pd.read_csv('data/after_eda/test_neg_after_eda.csv', names=['source_node', 'destination_node'])\n",
    "\n",
    "    print('='*60)\n",
    "    print(\"Number of nodes in the train data graph with edges = \", X_train_final_pos.shape[0])\n",
    "    print(\"Number of nodes in the train data graph without edges = \", X_train_final_neg.shape[0])\n",
    "    print('='*60)\n",
    "    print(\"Number of nodes in the cv data graph with edges = \", X_cv_pos.shape[0])\n",
    "    print(\"Number of nodes in the cv data graph without edges = \", X_cv_neg.shape[0])\n",
    "    print('='*60)\n",
    "    print(\"Number of nodes in the test data graph with edges = \", X_test_pos.shape[0])\n",
    "    print(\"Number of nodes in the test data graph without edges = \", X_test_neg.shape[0])\n",
    "\n",
    "    X_train = X_train_final_pos.append(X_train_final_neg,ignore_index=True)\n",
    "    y_train = np.concatenate((y_train_final_pos,y_train_final_neg))\n",
    "    X_cv = X_cv_pos.append(X_cv_neg,ignore_index=True)\n",
    "    y_cv = np.concatenate((y_cv_pos,y_cv_neg))\n",
    "    X_test = X_test_pos.append(X_test_neg,ignore_index=True)\n",
    "    y_test = np.concatenate((y_test_pos,y_test_neg)) \n",
    "    \n",
    "    X_train.to_csv('data/after_eda/train_after_eda.csv',header=False,index=False)\n",
    "    X_cv.to_csv('data/after_eda/cv_after_eda.csv',header=False,index=False)\n",
    "    X_test.to_csv('data/after_eda/test_after_eda.csv',header=False,index=False)\n",
    "    pd.DataFrame(y_train.astype(int)).to_csv('data/train_y.csv',header=False,index=False)\n",
    "    pd.DataFrame(y_cv.astype(int)).to_csv('data/cv_y.csv',header=False,index=False)\n",
    "    pd.DataFrame(y_test.astype(int)).to_csv('data/test_y.csv',header=False,index=False)  \n",
    "    "
   ]
  },
  {
   "cell_type": "code",
   "execution_count": 34,
   "metadata": {},
   "outputs": [
    {
     "name": "stdout",
     "output_type": "stream",
     "text": [
      "Data points in train data (12080023, 2)\n",
      "Data points in cv data (3020005, 2)\n",
      "Data points in test data (3775007, 2)\n",
      "Shape of target variable in train (12080023, 1)\n",
      "Shape of target variable in cv (3020005, 1)\n",
      "Shape of target variable in test (3775007, 1)\n"
     ]
    }
   ],
   "source": [
    "X_train = pd.read_csv('data/after_eda/train_after_eda.csv')\n",
    "X_cv = pd.read_csv('data/after_eda/cv_after_eda.csv')\n",
    "X_test = pd.read_csv('data/after_eda/test_after_eda.csv')\n",
    "y_train = pd.read_csv('data/train_y.csv')\n",
    "y_cv = pd.read_csv('data/cv_y.csv')\n",
    "y_test = pd.read_csv('data/test_y.csv')\n",
    "\n",
    "print(\"Data points in train data\",X_train.shape)\n",
    "print(\"Data points in cv data\",X_cv.shape)\n",
    "print(\"Data points in test data\",X_test.shape)\n",
    "    \n",
    "print(\"Shape of target variable in train\",y_train.shape)\n",
    "print(\"Shape of target variable in cv\",y_cv.shape)\n",
    "print(\"Shape of target variable in test\", y_test.shape) "
   ]
  },
  {
   "cell_type": "markdown",
   "metadata": {},
   "source": [
    "#  Featurization   "
   ]
  },
  {
   "cell_type": "markdown",
   "metadata": {},
   "source": [
    "* Now, we have the pairs of vertices in our dataset and the corresponding class label that denotes whether there is an edge present between these vertices or not. However, we cannot performing Machine Learning on top of this and therefore, need to carry out some Featurizations.\n",
    "* The featurizations that we will try to employ over here will be mostly Graph Based Features. However we will also have a look at a few non-graph based featurizations.\n",
    "* Each feature that we generate could be thought of as a function. The core idea is that given these pairs of vertices, the feature takes vertex pairs as the input and returns a particular value that denotes the class label.\n",
    "* Once we obtain our dataset in this format and in the Test Data we are provided with a vertex pair, ie. a query point, we again compute these featurizations for the Test Datapoint ie we convert it into a feature vector.\n",
    "\n",
    "*** There is no point in carrying out One Hot Encoding because there is not much information in the node index itself. ***"
   ]
  },
  {
   "cell_type": "markdown",
   "metadata": {},
   "source": [
    "##  Reading Data "
   ]
  },
  {
   "cell_type": "code",
   "execution_count": 35,
   "metadata": {},
   "outputs": [
    {
     "name": "stdout",
     "output_type": "stream",
     "text": [
      "Name: \n",
      "Type: DiGraph\n",
      "Number of nodes: 1688330\n",
      "Number of edges: 6040012\n",
      "Average in degree:   3.5775\n",
      "Average out degree:   3.5775\n"
     ]
    }
   ],
   "source": [
    "#Reading the data after the completion of EDA :- \n",
    "if os.path.isfile('data/after_eda/train_pos_after_eda.csv'):\n",
    "    train_graph=nx.read_edgelist('data/after_eda/train_pos_after_eda.csv',delimiter=',',create_using=nx.DiGraph(),nodetype=int)\n",
    "    print(nx.info(train_graph))\n",
    "else:\n",
    "    print(\"please run the FB_EDA.ipynb or download the files from drive\")"
   ]
  },
  {
   "cell_type": "markdown",
   "metadata": {},
   "source": [
    "<h4> Observations </h4>\n",
    "\n",
    "* In the Training Graph we have a total of 1.68 Million vetices and a total of 6.04 Million edges between these vertices.\n",
    "* Average In-Degree and Average Out-Degree = 3.5775."
   ]
  },
  {
   "cell_type": "markdown",
   "metadata": {},
   "source": [
    "# 3. Feature Engineering - Part 1"
   ]
  },
  {
   "cell_type": "markdown",
   "metadata": {},
   "source": [
    "## 3.1 Similarity Measures "
   ]
  },
  {
   "cell_type": "markdown",
   "metadata": {},
   "source": [
    "### 3.1.1 Jaccard Distance \n",
    "http://www.statisticshowto.com/jaccard-index/\n",
    "\n",
    "* Assume that a user U(1) is getting followed by users U(3),U(4) and U(5) and assume that the user U(2) is getting followed by U(3),U(4) and U(6).\n",
    "* Therefore here we can construct sets. We can construct a set of all the followers of U(1) as well as the set of all followers of U(2). \n",
    "- Let X = Set of all followers of U(1) : {U(3),U(4),U(5)}\n",
    "- Let Y = Set of all followers of U(2) : {U(3),U(4),U(6)}\n",
    "* The Jaccard Distance between 2 sets X and Y is defined as follows :-\n",
    "\n",
    "\\begin{equation}\n",
    "j = \\frac{|X\\cap Y|}{|X \\cup Y|} \n",
    "\\end{equation}\n",
    "\n",
    "ie. Jaccard Distance is equal to the size of intersection of sets X and Y divided by the size of union of sets X and Y.\n",
    "* In our case, we have an overlap of U(3) and U(4) across the 2 sets ie. intersection set = {U(3),U(4)}. Similarly,\n",
    "  union set = {U(3),U(4),U(5),U(6)}\n",
    "* Thus we can calculate the Jaccard Distance basis the size of the sets. j = 2/4 ie. 0.5. (Jaccard Distance between the set of followers of U(1) and U(2)}.\n",
    "* We can compute the Jaccard Distance both between the Follower Sets as well as between the Followee Sets. In the example that we saw above we computed the j(follower) ie. we took the set of all the followers.\n",
    "\n",
    "***Basically, what Jaccard Distance says is that since there are a lot of common followers between U(1) and U(2), their interests could be similar and both of them could be belonging to a set of friends.***\n",
    "\n",
    "***Jaccard Index is useful not just in the case of graph theory, but also when we have 2 sets and we want to measure how similar the 2 sets are.The larger the value of the Jaccard Index (j), the higher is the probability of an edge existing between the 2 vertices.***\n",
    "\n",
    "***We picked this metric because logically we know that if 2 users have more overlap amongst their follower/followee set, the chances of them having an edge between them is pretty high.***\n"
   ]
  },
  {
   "cell_type": "code",
   "execution_count": 36,
   "metadata": {},
   "outputs": [],
   "source": [
    "#Jaccard Distance computation for followees\n",
    "\n",
    "def jaccard_for_followees(a,b):\n",
    "    try:\n",
    "        if len(set(train_graph.successors(a))) == 0  | len(set(train_graph.successors(b))) == 0:\n",
    "            return 0\n",
    "        sim = (len(set(train_graph.successors(a)).intersection(set(train_graph.successors(b)))))/\\\n",
    "                                    (len(set(train_graph.successors(a)).union(set(train_graph.successors(b)))))\n",
    "    except:\n",
    "        return 0\n",
    "    return sim"
   ]
  },
  {
   "cell_type": "code",
   "execution_count": 37,
   "metadata": {},
   "outputs": [
    {
     "name": "stdout",
     "output_type": "stream",
     "text": [
      "0.0\n"
     ]
    }
   ],
   "source": [
    "#one test case\n",
    "print(jaccard_for_followees(273084,1505602))"
   ]
  },
  {
   "cell_type": "code",
   "execution_count": 38,
   "metadata": {},
   "outputs": [
    {
     "name": "stdout",
     "output_type": "stream",
     "text": [
      "0.0\n"
     ]
    }
   ],
   "source": [
    "#node 1635354 not in graph \n",
    "print(jaccard_for_followees(273084,1505602))"
   ]
  },
  {
   "cell_type": "code",
   "execution_count": 39,
   "metadata": {},
   "outputs": [],
   "source": [
    "#Jaccard Distance computation for followers\n",
    "\n",
    "def jaccard_for_followers(a,b):\n",
    "    try:\n",
    "        if len(set(train_graph.predecessors(a))) == 0  | len(set(g.predecessors(b))) == 0:\n",
    "            return 0\n",
    "        sim = (len(set(train_graph.predecessors(a)).intersection(set(train_graph.predecessors(b)))))/\\\n",
    "                                 (len(set(train_graph.predecessors(a)).union(set(train_graph.predecessors(b)))))\n",
    "        return sim\n",
    "    except:\n",
    "        return 0"
   ]
  },
  {
   "cell_type": "code",
   "execution_count": 40,
   "metadata": {},
   "outputs": [
    {
     "name": "stdout",
     "output_type": "stream",
     "text": [
      "0.0\n"
     ]
    }
   ],
   "source": [
    "print(jaccard_for_followers(273084,470294))"
   ]
  },
  {
   "cell_type": "code",
   "execution_count": 41,
   "metadata": {},
   "outputs": [
    {
     "name": "stdout",
     "output_type": "stream",
     "text": [
      "0\n"
     ]
    }
   ],
   "source": [
    "#node 1635354 not in graph \n",
    "print(jaccard_for_followees(669354,1635354))"
   ]
  },
  {
   "cell_type": "markdown",
   "metadata": {},
   "source": [
    "### 3.1.2 Cosine Distance"
   ]
  },
  {
   "cell_type": "markdown",
   "metadata": {},
   "source": [
    "* If we have 2 vectors x and y, we can compute the cosine distance or cosine similarity between them.\n",
    "* The standard Cosine Distance formula for 2 vectors A and B is as follows :- \n",
    "                A.B = ||A||||B||cos*\n",
    "   Thus, cosine-similarity = cos* = A.B/ (||A||||B||)\n",
    "* There is a simple variation of the cosine distance called the Otsuka-Ochiai Coefficient, which computes the cosine distance between 2 sets X and Y. It is defined as follows :-\n",
    "\n",
    "\\begin{equation}\n",
    "CosineDistance (Otsuka-Ochiai-Coefficient) = \\frac{|X\\cap Y|}{\\sqrt(|X|\\cdot|Y|} \n",
    "\\end{equation}\n",
    "\n",
    "* Remember that here, the denominator is fixed given X and Y but the numerator (number of common elements) size is increasing.\n",
    "* The primary difference between the Jaccard Distance and this particular metric is the denominator. The numerator is the same in both of these cases.\n",
    "* While these featurizations are generated, some of the featurizations could be correlated, but we will make things work.\n",
    "* Even here we generate 2 functions :- for cosine distance for followee set and a separate one for the follower set.\n",
    "\n",
    "- This basically tells us that the Cosine Distance is the same as size of the intersection between our 2 sets X and Y divided by the square root of (Multiplication of number of elements in the set X and the number of elements in the set Y).\n",
    "\n",
    "*** We need to not that this particular cosine distance (or the Otsuka-Ochiai Coefficient) is high if there is a higher overlap between the 2 sets X and Y. ***"
   ]
  },
  {
   "cell_type": "code",
   "execution_count": 42,
   "metadata": {},
   "outputs": [],
   "source": [
    "#for followees\n",
    "def cosine_for_followees(a,b):\n",
    "    try:\n",
    "        if len(set(train_graph.successors(a))) == 0  | len(set(train_graph.successors(b))) == 0:\n",
    "            return 0\n",
    "        sim = (len(set(train_graph.successors(a)).intersection(set(train_graph.successors(b)))))/\\\n",
    "                                    (math.sqrt(len(set(train_graph.successors(a)))*len((set(train_graph.successors(b))))))\n",
    "        return sim\n",
    "    except:\n",
    "        return 0"
   ]
  },
  {
   "cell_type": "code",
   "execution_count": 43,
   "metadata": {},
   "outputs": [
    {
     "name": "stdout",
     "output_type": "stream",
     "text": [
      "0.0\n"
     ]
    }
   ],
   "source": [
    "print(cosine_for_followees(273084,1505602))"
   ]
  },
  {
   "cell_type": "code",
   "execution_count": 44,
   "metadata": {},
   "outputs": [
    {
     "name": "stdout",
     "output_type": "stream",
     "text": [
      "0\n"
     ]
    }
   ],
   "source": [
    "print(cosine_for_followees(273084,1635354))"
   ]
  },
  {
   "cell_type": "code",
   "execution_count": 45,
   "metadata": {},
   "outputs": [],
   "source": [
    "def cosine_for_followers(a,b):\n",
    "    try:\n",
    "        \n",
    "        if len(set(train_graph.predecessors(a))) == 0  | len(set(train_graph.predecessors(b))) == 0:\n",
    "            return 0\n",
    "        sim = (len(set(train_graph.predecessors(a)).intersection(set(train_graph.predecessors(b)))))/\\\n",
    "                                     (math.sqrt(len(set(train_graph.predecessors(a))))*(len(set(train_graph.predecessors(b)))))\n",
    "        return sim\n",
    "    except:\n",
    "        return 0"
   ]
  },
  {
   "cell_type": "code",
   "execution_count": 46,
   "metadata": {},
   "outputs": [
    {
     "name": "stdout",
     "output_type": "stream",
     "text": [
      "0.0\n"
     ]
    }
   ],
   "source": [
    "print(cosine_for_followers(2,470294))"
   ]
  },
  {
   "cell_type": "code",
   "execution_count": 47,
   "metadata": {},
   "outputs": [
    {
     "name": "stdout",
     "output_type": "stream",
     "text": [
      "0\n"
     ]
    }
   ],
   "source": [
    "print(cosine_for_followers(669354,1635354))"
   ]
  },
  {
   "cell_type": "markdown",
   "metadata": {},
   "source": [
    "## 3.2 Ranking Measures"
   ]
  },
  {
   "cell_type": "markdown",
   "metadata": {},
   "source": [
    "### 3.2.1 Page Ranking\n",
    "\n",
    "https://networkx.github.io/documentation/networkx-1.10/reference/generated/networkx.algorithms.link_analysis.pagerank_alg.pagerank.html\n",
    "\n",
    "* A very important and useful type of featurization in the case of Graph Data (especially Directed Graphs) is called the PageRank.\n",
    "* PageRank is a very popular algorithm because it was one of the early prototypes for the Ranking Algorithm that Google used.\n",
    "* We can have a look at the Wikipedia source (https://en.wikipedia.org/wiki/PageRank) to obtain a brief overview of the PageRank without going into the complex mathematical details related to the same. \n",
    "\n",
    "* We can think of all the pages in the internet as a set of pages, and each of these pages on the internet could be thought of as a vertex/node. Eg:- let the nodes be yahoo.com,cnn.com and mit.edu.\n",
    "* Suppose that on \"yahoo.com\" there is a Hyperlink present to \"cnn.com\" ie. it takes us to \"cnn.com.\"\n",
    "* If there is a Hyperlink present, we basically add an edge between these 2 vertices. \n",
    "\n",
    "***This is an example of a Directed Edge because the link is from yahoo.com to cnn.com. To sum it up, the entire web structure between various pages on the internet could be thought of as a Directed Graph.***\n",
    "\n",
    "<b> Q. If you have millions of pages available on the internet, how do you rank the same ie. how do you rank the importance of each ? </b>\n",
    "\n",
    "<img src=\"pagerank_wikipedia.jpg\" style=\"width:600px;height:500px\"/>\n",
    "\n",
    "* According to this diagram above, the Webpage B tends to have a larger value if there are a lot of pages that are linking to the webpage B :- <b> Linking into B must mean that the Webpage B must be a Trusted Source. Eg :- yahoo.com, mit.edu, cnn.com.</b>\n",
    "\n",
    "***If lots of pages on the internet are linking into the Webpage B, then B must be an important webpage.***\n",
    "\n",
    "* Suppose you are getting lot of links to mit.edu, and we are getting links from the webpage called 'cnn.com'. Since cnn.com itself is a very important website, therefore your page value increases.\n",
    "\n",
    "\n",
    "<b> Q. How do we come up with the importance score of each page? </b>\n",
    "\n",
    "* There is a bunch of Graph Theoretic Mathematics behind this. PageRank works by counting the number and the quality of links to a particular page to get a rough estimate of a particular page's importance.\n",
    "* A PageRank algorithm outputs a Probability Distribution across all the vertices/nodes ie it outputs a probability value for each of the webpages :- This Probability Value represents the likelihood that a person randomly clicking on links will arrive at this particular page. \n",
    "* <b> PageRank says that it will give some value to each webpage such that this value is the probability of a user landing on this webpage if he/she was randomly clicking on all the links on the internet. </b>\n",
    "* The underlying assumption in PageRank is that more important websites are likely to receive more links from other websites.\n",
    "\n",
    "==================================================================================================================\n",
    "\n",
    "* For a Directed Graph and each vertex of a Directed Graph PageRank gives us a score that represents how important the particular vertex is in the directed graph.\n",
    "* PageRank was initially created for internet/web search and was not created for Social Media Link Prediction -> Still, the vertex importance score is a very important property of the graph.\n",
    "* Given a vertex, if it is more important (ie it has a higher PageRank score), it means that this vertex/user is very important because a lot of other users and a few users of high importance are linking into this user.\n",
    "* Suppose a particular user like Bill Gates is being followed by many other people as well as some big players like Mark Zuckerberg and Warren Buffet. <b> The fact that a lot of small people including some big players are following this user called 'Bill Gates' must suggest that Bill Gates must be an important person. Hence he has a significantly higher chance of being followed by a random person U(j).In contrast, a random person has a very small chance of getting an edge from another random person.</b>\n",
    "  "
   ]
  },
  {
   "cell_type": "code",
   "execution_count": 48,
   "metadata": {},
   "outputs": [],
   "source": [
    "#networkx already has PageRank implemented internally.\n",
    "#\n",
    "if not os.path.isfile('data/fea_sample/page_rank.p'):\n",
    "    pr = nx.pagerank(train_graph, alpha=0.85) #We get the PageRank value for each vertex U(i)\n",
    "    pickle.dump(pr,open('data/fea_sample/page_rank.p','wb'))\n",
    "else:\n",
    "    pr = pickle.load(open('data/fea_sample/page_rank.p','rb'))"
   ]
  },
  {
   "cell_type": "code",
   "execution_count": 49,
   "metadata": {},
   "outputs": [
    {
     "name": "stdout",
     "output_type": "stream",
     "text": [
      "min 1.8477359255798876e-07\n",
      "max 2.575515258407756e-05\n",
      "mean 5.923012681139843e-07\n"
     ]
    }
   ],
   "source": [
    "#These are the Minimum value, Maximum value and Mean value of PageRanks given to each vertex\n",
    "\n",
    "print('min',pr[min(pr, key=pr.get)])\n",
    "print('max',pr[max(pr, key=pr.get)])\n",
    "print('mean',float(sum(pr.values())) / len(pr))"
   ]
  },
  {
   "cell_type": "markdown",
   "metadata": {},
   "source": [
    "* In the Google PageRank the simple probabilities are not used. Rather the log probabilties are used. \n",
    "* We carry out imputing :- For those nodes that are not present in the Train Data we simply use the mean value of PageRank. { There are roughly 80K nodes present in the Test Data which are not present in the Training Data.\n",
    "* Basically we will carry out featurization for the 2 vertices as follows :-\n",
    "   - We compute the PageRank for the Source Vertex as well as the Destination Vertex."
   ]
  },
  {
   "cell_type": "code",
   "execution_count": 50,
   "metadata": {},
   "outputs": [
    {
     "name": "stdout",
     "output_type": "stream",
     "text": [
      "5.923012681139843e-07\n"
     ]
    }
   ],
   "source": [
    "#for imputing to nodes which are not there in Train data\n",
    "mean_pr = float(sum(pr.values())) / len(pr)\n",
    "print(mean_pr)"
   ]
  },
  {
   "cell_type": "markdown",
   "metadata": {},
   "source": [
    "## 3.3 Other Graph Features"
   ]
  },
  {
   "cell_type": "markdown",
   "metadata": {},
   "source": [
    "### 3.3.1 Shortest path:"
   ]
  },
  {
   "cell_type": "markdown",
   "metadata": {},
   "source": [
    "* This is a very useful feature where we can compute the shortest path between the 2 vertices that we have.\n",
    "* Imagine that we have the vertices U(i) and U(j). (These are the pair of vertices that we have). Suppose the 2 paths available to us are as follows :- \n",
    "- Path 1 : U(i) -> U(1) -> U(2) -> U(j)  { Length = 3}.\n",
    "- Path 2 : U(i) -> U(3) -> U(4) -> U(5) -> U(j) { Length = 4}\n",
    "        In such a case we take the length of the shortest path between the 2 vertices.\n",
    "* One possibility is that we already have an edge between the 2 vertices. In such a case obviously the shortest path is of length=1. However in such a scenario there is no sense in saying that path length = 1. <b> If there is already an edge between the 2 vertices we first remove this edge and then compute the shortest path between the 2 vertices. </b>\n",
    "* It is also possible that there is no path between the 2 vertices that are specified. <b> If there is no path between the 2 vertices we just give it a default value of -1. </b>\n",
    "\n",
    "* If you have 2 vertices U(i) and U(j) such that the path is as follows :- \n",
    "        U(i) -> U(1) -> U(j) \n",
    "  { U(i) is following U(1) and U(1) is following U(j) } \n",
    "- Length of the Shortest path in this case = 2. \n",
    "* <b> The idea is that when the length of the path is short there is a higher chance that U(i) could be following U(j) or U(j) could be following U(i).\n",
    "\n",
    "* There are a lot of algorithms present in Graph Theory to determine the length of the shortest path. (Not considering the same because networkx helps us compute the same very easily without having to worry about the algorithm behind the same."
   ]
  },
  {
   "cell_type": "code",
   "execution_count": 51,
   "metadata": {},
   "outputs": [],
   "source": [
    "#if has direct edge then deleting that edge and calculating shortest path\n",
    "def compute_shortest_path_length(a,b):\n",
    "    p=-1\n",
    "    try:\n",
    "        if train_graph.has_edge(a,b):\n",
    "            train_graph.remove_edge(a,b)\n",
    "            p= nx.shortest_path_length(train_graph,source=a,target=b) #we just need to specify src & dest vertices.\n",
    "            train_graph.add_edge(a,b)\n",
    "        else:\n",
    "            p= nx.shortest_path_length(train_graph,source=a,target=b)\n",
    "        return p\n",
    "    except:\n",
    "        return -1"
   ]
  },
  {
   "cell_type": "code",
   "execution_count": 52,
   "metadata": {},
   "outputs": [
    {
     "data": {
      "text/plain": [
       "-1"
      ]
     },
     "execution_count": 52,
     "metadata": {},
     "output_type": "execute_result"
    }
   ],
   "source": [
    "#testing\n",
    "compute_shortest_path_length(77697, 826021)"
   ]
  },
  {
   "cell_type": "code",
   "execution_count": 53,
   "metadata": {},
   "outputs": [
    {
     "data": {
      "text/plain": [
       "-1"
      ]
     },
     "execution_count": 53,
     "metadata": {},
     "output_type": "execute_result"
    }
   ],
   "source": [
    "#testing\n",
    "compute_shortest_path_length(669354,1635354)"
   ]
  },
  {
   "cell_type": "markdown",
   "metadata": {},
   "source": [
    "### 3.3.2 Checking for same Community"
   ]
  },
  {
   "cell_type": "markdown",
   "metadata": {},
   "source": [
    "<b> Some Terminologies that we need to understand are the concepts of 'Strongly Connected Component' and 'Weakly Connected Component.' </b> This is important to understand because the concept of 'Weakly Connected Component' is important for our task at hand. \n",
    "\n",
    "<h4> Strongly Connected Component </h4>\n",
    "\n",
    "<img src=\"community_example.png\" style=\"width:450px;height:200px\"/>\n",
    "\n",
    "* Suppose our graph looks as shown above. Here we can see a directed graph with directed edges.\n",
    "* Take the first subset of vertices ie. {a,b,e} -> This becomes set S1. Similarly, {f,g} becomes set S2 and the vertices subset {c,d,h} becomes set S3. Therefore our entire Graph G has been broken up into sets S1, S2 and S3.\n",
    "* <b> Remember that we have broken up the graph G into different sets such that within a set you can go from one vertex to any other vertex. </b>\n",
    "- Eg : For the set S1 :- We can go from a to b, b to a via e, go from e to b via a and so on. You have a path from every vertex to every other vertex.\n",
    "- Similarly for sets S2 and S3 we have a path from one vertex to every other vertex. \n",
    "\n",
    "***Therefore each of these sets over here,(S1,S2 and S3) are called Strongly Connected Components :- If you have a directed Graph G, you break it up into subsets of vertices such that within a subset of vertices you can go from one vertex to any other vertex.***\n",
    "\n",
    "<b> Q. Why did we break our graph into 3 Subsets? </b>\n",
    "\n",
    "* Assume that we took the group of vertices (a,b,e,f,g) into a single set S1' and the vertices (c,d,h) into a single set S2'.\n",
    "* Then we know that within the set S2' we can go from any vertex to any other vertex. But within the set S1' we cannot go from any vertex to any other vertex. Eg: We cannot go from vertex f to b, f to e etc. Hence the set S1' cannot be a Strongly Connected Component in such a scenario."
   ]
  },
  {
   "cell_type": "markdown",
   "metadata": {},
   "source": [
    "<h4> Weakly Connected Component </h4>\n",
    "\n",
    "* Imagine that we ignore the directions that we have in the case of a Directed Graph. This means that in the graph above, if you have an edge from a to b, we can also go from b to a.\n",
    "* When we ignore the directions, it basically means that we do not require 2 paths for the vertices (c,d) and (d,h) in the graph above.\n",
    "* Q. If you ignore the direction of edges in a directed graph, can you..?\n",
    "- Go from a to b?  => Yes.\n",
    "- Go from a to e?  => Yes.\n",
    "* <b> A Weakly Connected Component is basically a subset of vertices (just like in the case of Strongly Connected Components) such that you can go from any vertex to any other vertex in the subset when you ignore the directions of each of the edges. </b>\n",
    "\n",
    "<b> Q. Why do we care about Weakly Connected Components? </b>\n",
    "\n",
    "* We care about the Weakly Connected Components because the Weakly Connected Components create communities.\n",
    "* Eg :- All of your College friends might belong to a community and there will be a lot of links amongst yourselves. But, at the same time, your work related friends could be forming a completely different cluster (or group of points.)\n",
    "* The basic reasoning is that it is possible to find a path from every work related friend of yours to every other work related friend of yours. But your college friends and your work related friends could be forming completely different sets/clusters. If there was an edge between your 2 sets, we would have had a single weakly connected component (One Community).\n",
    "\n",
    "***A group of similar users (ie users of similar interests), or the people from same school/college/workplace or with the same ethnicity/interests etc could form one community. ***\n",
    "\n",
    "* If there are 2 users U(i) and U(j) that belong to the same weakly connected component, it gives a very high probability value that U(i) and U(j) share something similar (they could have gone to the same school/college/company etc).\n",
    "* <b> Therefore there is a higher probability of an edge being present. </b>"
   ]
  },
  {
   "cell_type": "code",
   "execution_count": 54,
   "metadata": {},
   "outputs": [],
   "source": [
    "#getting weakly connected edges from graph \n",
    "\n",
    "wcc=list(nx.weakly_connected_components(train_graph))\n",
    "def belongs_to_same_wcc(a,b):\n",
    "    index = []\n",
    "    if train_graph.has_edge(b,a):\n",
    "        return 1\n",
    "    if train_graph.has_edge(a,b):\n",
    "            for i in wcc:\n",
    "                if a in i:\n",
    "                    index= i\n",
    "                    break\n",
    "            if (b in index):\n",
    "                train_graph.remove_edge(a,b)\n",
    "                if compute_shortest_path_length(a,b)==-1:\n",
    "                    train_graph.add_edge(a,b)\n",
    "                    return 0\n",
    "                else:\n",
    "                    train_graph.add_edge(a,b)\n",
    "                    return 1\n",
    "            else:\n",
    "                return 0\n",
    "    else:\n",
    "            for i in wcc:\n",
    "                if a in i:\n",
    "                    index= i\n",
    "                    break\n",
    "            if(b in index):\n",
    "                return 1\n",
    "            else:\n",
    "                return 0"
   ]
  },
  {
   "cell_type": "code",
   "execution_count": 55,
   "metadata": {},
   "outputs": [
    {
     "data": {
      "text/plain": [
       "0"
      ]
     },
     "execution_count": 55,
     "metadata": {},
     "output_type": "execute_result"
    }
   ],
   "source": [
    "belongs_to_same_wcc(861, 1659750)"
   ]
  },
  {
   "cell_type": "code",
   "execution_count": 56,
   "metadata": {},
   "outputs": [
    {
     "data": {
      "text/plain": [
       "0"
      ]
     },
     "execution_count": 56,
     "metadata": {},
     "output_type": "execute_result"
    }
   ],
   "source": [
    "belongs_to_same_wcc(669354,1635354)"
   ]
  },
  {
   "cell_type": "markdown",
   "metadata": {},
   "source": [
    "### 3.3.3 Adamic/Adar Index:\n",
    "\n",
    "* Adamic/Adar Index is a measure that was introduced in 2003 to predict the links in a social network. The Adar Index is defined as follows :-\n",
    "- Given 2 vertices x and y, it looks at all the Neighbours of these 2 vertices.\n",
    "- <b> All the vertices that are connected to the vertex x, either inwards or outwards is defined as the neighbourhood of the point x. </b> This definition of Neighbourhood is different from the Neighbourhood definition in the case of KNN { In KNN, the neighbourhood is referrred to as the K-Nearest points}.\n",
    "\n",
    "- Suppose N(x) = {U(1),U(2),U(3)}  and N(y) = {U(4),U(5),U(6)}.\n",
    "\n",
    "* Adamic/Adar measures is defined as inverted sum of degrees of common neighbours for given two vertices.\n",
    "* The formula for Adar Index is as follows :-\n",
    "$$A(x,y)=\\sum_{u \\in N(x) \\cap N(y)}\\frac{1}{log(|N(u)|)}$$\n",
    "\n",
    "\n",
    "* In the formula, u refers to the intersection of the 2 sets. Suppose u1 be a vertex as shown on the shaded region. * We know that U1 is connected to both x and y. But u1 could also be connected to many other points ie. u1 itself will have a Neighbourhood called N(u1).\n",
    "* Suppose U1 has a large neighbourhood. <b> This would probably mean that U1 is a celebrity. </b>\n",
    "* Consider another vertex U2 in the intersection which has a small neighbourhood.\n",
    "* Now the vertices x and y are connected to both U1 and U2. This means that if x and y are connected through a Celebrity (in any of the directions of the edges) there is a very small chance that x and y themselves are friends.\n",
    "- Eg :- Suppose U1 be the celebrity 'Shakira'. Just because you are following Shakira and somebody in Brazil/Argentina is following Shakira does not necessarily mean that you are following that person or that person is following you.\n",
    "\n",
    "* N(u) in the formula basically means the size of the set of neighbours of u. Since U1 is a celebrity and has a large set of neighbours, therefore |N(U1)| will be very large.\n",
    "* Also, since log is a monotonic function, therefore, log(|N(U1)|) will be large, and when this value is large the inverse of that will be small.\n",
    "* <b> Therefore the contribution of nodes such as U1 (which has a large number of neighbours) to the Adar Index is going to be small. </b>\n",
    "\n",
    "\n",
    "***If there is a Neighbourhood like U1 in the intersection of vertices x and y ie. if the Neighbourhood of U1 itself is very large, there is a very small chance that x and y are going to be related. But on the other hand, if you are a vertex like U2 where both the vertices x and y are connected to U2 and U2 itself has a very small neighbourhood, then it is very likely that U2,x,y and the other people in the Neighbourhood belong to a small group of friends (friends from school/college/work etc). This is the Core Idea behind Adar Index. *** \n",
    "\n",
    "===================================================================================================================\n",
    "\n",
    "***Common Elements with very large neighbourhood are lesser significant when predicting a connection between 2 nodes.***"
   ]
  },
  {
   "cell_type": "code",
   "execution_count": 57,
   "metadata": {},
   "outputs": [],
   "source": [
    "#adar index\n",
    "def calc_adar_in(a,b):\n",
    "    sum=0\n",
    "    try:\n",
    "        n=list(set(train_graph.successors(a)).intersection(set(train_graph.successors(b))))\n",
    "        if len(n)!=0:\n",
    "            for i in n:\n",
    "                sum=sum+(1/np.log10(len(list(train_graph.predecessors(i)))))\n",
    "            return sum\n",
    "        else:\n",
    "            return 0\n",
    "    except:\n",
    "        return 0"
   ]
  },
  {
   "cell_type": "code",
   "execution_count": 58,
   "metadata": {},
   "outputs": [
    {
     "data": {
      "text/plain": [
       "0"
      ]
     },
     "execution_count": 58,
     "metadata": {},
     "output_type": "execute_result"
    }
   ],
   "source": [
    "calc_adar_in(1,189226)"
   ]
  },
  {
   "cell_type": "code",
   "execution_count": 59,
   "metadata": {},
   "outputs": [
    {
     "data": {
      "text/plain": [
       "0"
      ]
     },
     "execution_count": 59,
     "metadata": {},
     "output_type": "execute_result"
    }
   ],
   "source": [
    "calc_adar_in(669354,1635354)"
   ]
  },
  {
   "cell_type": "markdown",
   "metadata": {},
   "source": [
    "### 3.3.4 Is the Person Following Back? "
   ]
  },
  {
   "cell_type": "markdown",
   "metadata": {},
   "source": [
    "<b> Task :- If somebody provides you with the vertex pair (a,b) and if there is an edge in the graph in the direction from b to a, you need to tell if there is also an edge from a to b or not. </b>\n",
    "\n",
    "* The reasoning is that if there is an edge from b to a,there is a very high chance that there could be an edge from a to b. This is because if 'b' is a friend of 'a' and if 'b' is already following 'a' on an Instagram type of network, there is a very high chance that 'a' is also a friend of 'b' and 'a' could follow 'b'.\n",
    "* This is a very simple if-else condition and a useful feature. The function below basically just says that if there is already an edge from 'b' to 'a', return 1 and return 0 otherwise."
   ]
  },
  {
   "cell_type": "code",
   "execution_count": 60,
   "metadata": {},
   "outputs": [],
   "source": [
    "def follows_back(a,b):\n",
    "    if train_graph.has_edge(b,a):\n",
    "        return 1\n",
    "    else:\n",
    "        return 0"
   ]
  },
  {
   "cell_type": "code",
   "execution_count": 61,
   "metadata": {},
   "outputs": [
    {
     "data": {
      "text/plain": [
       "1"
      ]
     },
     "execution_count": 61,
     "metadata": {},
     "output_type": "execute_result"
    }
   ],
   "source": [
    "follows_back(1,189226)"
   ]
  },
  {
   "cell_type": "code",
   "execution_count": 62,
   "metadata": {},
   "outputs": [
    {
     "data": {
      "text/plain": [
       "0"
      ]
     },
     "execution_count": 62,
     "metadata": {},
     "output_type": "execute_result"
    }
   ],
   "source": [
    "follows_back(669354,1635354)"
   ]
  },
  {
   "cell_type": "markdown",
   "metadata": {},
   "source": [
    "### 3.3.5 Katz Centrality:\n",
    "\n",
    "https://en.wikipedia.org/wiki/Katz_centrality\n",
    "\n",
    "https://www.geeksforgeeks.org/katz-centrality-centrality-measure/\n",
    "\n",
    "* We are using 'Katz Centrality' because it is a readily available feature to us in networkx. \n",
    "* Katz Centrality is a very similar idea to PageRank. However, unlike PageRank, it is very old idea from the 1950s.\n",
    "\n",
    "<img src=\"katz_centrality.png\" style=\"width:500px;height:300px\"/>\n"
   ]
  },
  {
   "cell_type": "markdown",
   "metadata": {},
   "source": [
    "* Have a look at the graph above. Assume that you have a social network of people who are influencing other people.\n",
    "* Katz Centrality basically says :- <b> To evaluate how important a person is ie. to measure his/her influence, you take the influence of all of the Neighbours in consideration (Just like in PageRank). </b>\n",
    "* Eg :- In the graph above, the influence of Jose is going to depend on the influence of other users who are connected to Jose. Similarly the influence of Diego is going to depend on the influence of other users who are connected to him including Jose.\n",
    "* Katz centrality computes the centrality for a node based on the centrality of its neighbors. It is a generalization of the eigen-vector centrality. The Katz centrality for node `i` is :-\n",
    " \n",
    "$$x_i = \\alpha \\sum_{j} A_{ij} x_j + \\beta,$$\n",
    "where `A` is the adjacency matrix of the graph G \n",
    "with eigenvalues $$\\lambda$$.\n",
    "\n",
    "The parameter $$\\beta$$ controls the initial centrality and \n",
    "\n",
    "$$\\alpha < \\frac{1}{\\lambda_{max}}.$$"
   ]
  },
  {
   "cell_type": "code",
   "execution_count": 63,
   "metadata": {},
   "outputs": [],
   "source": [
    "if not os.path.isfile('data/fea_sample/katz.p'):\n",
    "    katz = nx.katz.katz_centrality(train_graph,alpha=0.005,beta=1)\n",
    "    pickle.dump(katz,open('data/fea_sample/katz.p','wb'))\n",
    "else:\n",
    "    katz = pickle.load(open('data/fea_sample/katz.p','rb'))"
   ]
  },
  {
   "cell_type": "code",
   "execution_count": 64,
   "metadata": {},
   "outputs": [
    {
     "name": "stdout",
     "output_type": "stream",
     "text": [
      "min 0.0007545411894196759\n",
      "max 0.002582125044677203\n",
      "mean 0.0007690333404110829\n"
     ]
    }
   ],
   "source": [
    "print('min',katz[min(katz, key=katz.get)])\n",
    "print('max',katz[max(katz, key=katz.get)])\n",
    "print('mean',float(sum(katz.values())) / len(katz))"
   ]
  },
  {
   "cell_type": "code",
   "execution_count": 65,
   "metadata": {},
   "outputs": [
    {
     "name": "stdout",
     "output_type": "stream",
     "text": [
      "0.0007690333404110829\n"
     ]
    }
   ],
   "source": [
    "mean_katz = float(sum(katz.values())) / len(katz)\n",
    "print(mean_katz)"
   ]
  },
  {
   "cell_type": "markdown",
   "metadata": {},
   "source": [
    "### 3.3.6 HITS Score\n",
    "\n",
    "https://en.wikipedia.org/wiki/HITS_algorithm\n",
    "\n",
    "* HITS Algorithm is a very popular algorithm in internet search and is already implemented for us in networkx.\n",
    "* HITS stands for 'Hyperlink Induced Topic Search'. It is also commonly known as 'Hubs and Authorities'.\n",
    "* When Internet started in the 1990s there were commonly 2 types of webpages :- 'Hubs and Authorities'.\n",
    "- When people started using the internet in the pre-Google days, there were directory webpages like 'yahoo.com','aol.com' etc. <b> Directories were basically webpages where you had links to other major links. </b> Eg :- In these directories there would be say, a News section that listed out popular news websites such as 'cnn.com','cnbc.com' etc.\n",
    "- In this world of webpages in the pre-Google era there were 2 types of Webpages ie. Hubs and Authorities. <b> A Hub could be thought of as a website which had a lot of outlinks (links going away from it). Eg :- 'yahoo.com','aol.com' had links to a lot of other websites. Therefore, if the out-degree for a particular page is large it is called a Hub.</b>\n",
    "- The other type of webpages are called the authorities. Eg :- Pages such as 'cnn.com','bbc.com','mit.edu' etc. \n",
    "<b> These pages may not link to many other pages but they are called authorities because they get inlinks from a lot of other websites. Therefore, if the in-degree for a particular page is large it is called an Authority. </b>\n",
    "{It is an authority because a lot of people are pointing into you and think of you as a high quality website/page with a lot of authoritative information.}\n",
    "\n",
    "* The HITS Algorithm gives 2 kinds of scores to every webpage w - <h,a>. One of the scores for the webpage is called a Hub Score and the other is called an Authority Score.\n",
    "\n",
    "<h4> Working </h4>\n",
    "\n",
    "The HITS Algorithm works as follows :-\n",
    "\n",
    "* The HITS Algorithm is an Iterative Algorithm. At the start, to begin the ranking, for every page p, the auth(p)=1 and hub(p) = 1. {Both of these scores are equal to 1} -> <b> This is called the Initialization Condition. </b>\n",
    "* We basically update the authority and hub scores for a website p as follows :- \n",
    "        auth(p) = hub(1) + hub(2) + ...... + hub(n)\n",
    "        \n",
    "    ie the Authority of a Webpage p is the summation of Hub Scores of all the pages that p is connected to.\n",
    "- Eg :- Suppose you are 'yahoo.com' that is linking into 'cnn.com'.'yahoo.com' is linking into you and 'yahoo.com' has a higher hub score. Therefore 'cnn.com' should get a higher authority score because a more popular page is linking into you.\n",
    "* Similarly, for each page p you would update its Hub Score as the summation of all of its authority scores :-\n",
    "        hub(p) = auth(1) + auth(2) + ........ + auth(n)\n",
    "\n",
    "- Eg :- For 'yahoo.com' its hub score is the summation of the authority scores of all the webpages that you are linking out into.\n",
    "\n",
    "* <b> If you keep running this iterative loop everytime, the values of the hub score and authority score would go to infinity. Therefore what we do is that once we update the hub scores and authority scores for every vertex, we simply normalize them so that the scores do not become infinitely large. </b>\n",
    "* If you keep running this algorithm iteratively, a stage will come when your auth(p) and hub(p) converge ie. they do not change much. This is basically what gives us the authority score and hub score for each page.\n",
    "\n",
    "===================================================================================================================\n",
    "\n",
    "* Even though HITS Score is defined for web search and for internet itself, it also makes sense for our network and our task at hand.\n",
    "* This is because if there is somebody into whom there are a lot of inlinks (defined as an authority in the HITS Algorithm), he/she is probably a celebrity. Similarly, if there is somebody from where there are a lot of out-links (defined as a hub in the HITS Algorithm) this is probably a random person.\n",
    "* In our case we will use the HITS Algorithm to compute 2 scores for each of our users."
   ]
  },
  {
   "cell_type": "code",
   "execution_count": 66,
   "metadata": {},
   "outputs": [],
   "source": [
    "if not os.path.isfile('data/fea_sample/hits.p'):\n",
    "    hits = nx.hits(train_graph, max_iter=100, tol=1e-08, nstart=None, normalized=True)\n",
    "    pickle.dump(hits,open('data/fea_sample/hits.p','wb'))\n",
    "else:\n",
    "    hits = pickle.load(open('data/fea_sample/hits.p','rb'))"
   ]
  },
  {
   "cell_type": "code",
   "execution_count": 67,
   "metadata": {},
   "outputs": [
    {
     "name": "stdout",
     "output_type": "stream",
     "text": [
      "min 0.0\n",
      "max 0.005026140148419889\n",
      "mean 5.923012681177218e-07\n"
     ]
    }
   ],
   "source": [
    "print('min',hits[0][min(hits[0], key=hits[0].get)])\n",
    "print('max',hits[0][max(hits[0], key=hits[0].get)])\n",
    "print('mean',float(sum(hits[0].values())) / len(hits[0]))"
   ]
  },
  {
   "cell_type": "markdown",
   "metadata": {},
   "source": [
    "# 4. Featurization Implementation"
   ]
  },
  {
   "cell_type": "markdown",
   "metadata": {},
   "source": [
    "## 4.1 Reading a sample of Data from Train,CV and Test"
   ]
  },
  {
   "cell_type": "code",
   "execution_count": 68,
   "metadata": {},
   "outputs": [],
   "source": [
    "import random\n",
    "if os.path.isfile('data/after_eda/train_after_eda.csv'):\n",
    "    filename = \"data/after_eda/train_after_eda.csv\"\n",
    "    # you uncomment this line, if you dont know the length of the file name\n",
    "    # here we have hardcoded the number of lines as 15100030\n",
    "    # n_train = sum(1 for line in open(filename)) #number of records in file (excludes header)\n",
    "    n_train =  12080022\n",
    "    s = 100000 #desired sample size\n",
    "    skip_train = sorted(random.sample(range(1,n_train+1),n_train-s))\n",
    "    #https://stackoverflow.com/a/22259008/4084039"
   ]
  },
  {
   "cell_type": "code",
   "execution_count": 69,
   "metadata": {},
   "outputs": [],
   "source": [
    "if os.path.isfile('data/after_eda/train_after_eda.csv'):\n",
    "    filename = \"data/after_eda/cv_after_eda.csv\"\n",
    "    n_cv =  3020004\n",
    "    s = 25000 #desired sample size\n",
    "    skip_cv = sorted(random.sample(range(1,n_cv+1),n_cv-s))"
   ]
  },
  {
   "cell_type": "code",
   "execution_count": 70,
   "metadata": {},
   "outputs": [],
   "source": [
    "if os.path.isfile('data/after_eda/train_after_eda.csv'):\n",
    "    filename = \"data/after_eda/test_after_eda.csv\"\n",
    "    n_test = 3775006\n",
    "    s = 50000 #desired sample size\n",
    "    skip_test = sorted(random.sample(range(1,n_test+1),n_test-s))"
   ]
  },
  {
   "cell_type": "code",
   "execution_count": 71,
   "metadata": {},
   "outputs": [
    {
     "name": "stdout",
     "output_type": "stream",
     "text": [
      "Number of rows in the train data file: 12080022\n",
      "Number of rows we are going to eliminate in train data are 11980022\n",
      "Number of rows in the cv data file: 3020004\n",
      "Number of rows we are going to eliminate in cv data are 2995004\n",
      "Number of rows in the test data file: 3775006\n",
      "Number of rows we are going to eliminate in test data are 3725006\n"
     ]
    }
   ],
   "source": [
    "print(\"Number of rows in the train data file:\", n_train)\n",
    "print(\"Number of rows we are going to eliminate in train data are\",len(skip_train))\n",
    "print(\"Number of rows in the cv data file:\", n_cv)\n",
    "print(\"Number of rows we are going to eliminate in cv data are\",len(skip_cv))\n",
    "print(\"Number of rows in the test data file:\", n_test)\n",
    "print(\"Number of rows we are going to eliminate in test data are\",len(skip_test))"
   ]
  },
  {
   "cell_type": "code",
   "execution_count": 72,
   "metadata": {},
   "outputs": [
    {
     "name": "stdout",
     "output_type": "stream",
     "text": [
      "Our train matrix size  (100002, 3)\n"
     ]
    },
    {
     "data": {
      "text/html": [
       "<div>\n",
       "<style scoped>\n",
       "    .dataframe tbody tr th:only-of-type {\n",
       "        vertical-align: middle;\n",
       "    }\n",
       "\n",
       "    .dataframe tbody tr th {\n",
       "        vertical-align: top;\n",
       "    }\n",
       "\n",
       "    .dataframe thead th {\n",
       "        text-align: right;\n",
       "    }\n",
       "</style>\n",
       "<table border=\"1\" class=\"dataframe\">\n",
       "  <thead>\n",
       "    <tr style=\"text-align: right;\">\n",
       "      <th></th>\n",
       "      <th>source_node</th>\n",
       "      <th>destination_node</th>\n",
       "      <th>indicator_link</th>\n",
       "    </tr>\n",
       "  </thead>\n",
       "  <tbody>\n",
       "    <tr>\n",
       "      <th>0</th>\n",
       "      <td>1766578</td>\n",
       "      <td>1397543</td>\n",
       "      <td>1</td>\n",
       "    </tr>\n",
       "    <tr>\n",
       "      <th>1</th>\n",
       "      <td>1772958</td>\n",
       "      <td>1165051</td>\n",
       "      <td>1</td>\n",
       "    </tr>\n",
       "  </tbody>\n",
       "</table>\n",
       "</div>"
      ],
      "text/plain": [
       "   source_node  destination_node  indicator_link\n",
       "0      1766578           1397543               1\n",
       "1      1772958           1165051               1"
      ]
     },
     "execution_count": 72,
     "metadata": {},
     "output_type": "execute_result"
    }
   ],
   "source": [
    "df_final_train = pd.read_csv('data/after_eda/train_after_eda.csv', skiprows=skip_train, names=['source_node', 'destination_node'])\n",
    "df_final_train['indicator_link'] = pd.read_csv('data/train_y.csv', skiprows=skip_train, names=['indicator_link'])\n",
    "print(\"Our train matrix size \",df_final_train.shape)\n",
    "df_final_train.head(2)"
   ]
  },
  {
   "cell_type": "code",
   "execution_count": 73,
   "metadata": {},
   "outputs": [
    {
     "name": "stdout",
     "output_type": "stream",
     "text": [
      "Our cv matrix size  (25002, 3)\n"
     ]
    },
    {
     "data": {
      "text/html": [
       "<div>\n",
       "<style scoped>\n",
       "    .dataframe tbody tr th:only-of-type {\n",
       "        vertical-align: middle;\n",
       "    }\n",
       "\n",
       "    .dataframe tbody tr th {\n",
       "        vertical-align: top;\n",
       "    }\n",
       "\n",
       "    .dataframe thead th {\n",
       "        text-align: right;\n",
       "    }\n",
       "</style>\n",
       "<table border=\"1\" class=\"dataframe\">\n",
       "  <thead>\n",
       "    <tr style=\"text-align: right;\">\n",
       "      <th></th>\n",
       "      <th>source_node</th>\n",
       "      <th>destination_node</th>\n",
       "      <th>indicator_link</th>\n",
       "    </tr>\n",
       "  </thead>\n",
       "  <tbody>\n",
       "    <tr>\n",
       "      <th>0</th>\n",
       "      <td>1556922</td>\n",
       "      <td>835389</td>\n",
       "      <td>1</td>\n",
       "    </tr>\n",
       "    <tr>\n",
       "      <th>1</th>\n",
       "      <td>418421</td>\n",
       "      <td>420229</td>\n",
       "      <td>1</td>\n",
       "    </tr>\n",
       "  </tbody>\n",
       "</table>\n",
       "</div>"
      ],
      "text/plain": [
       "   source_node  destination_node  indicator_link\n",
       "0      1556922            835389               1\n",
       "1       418421            420229               1"
      ]
     },
     "execution_count": 73,
     "metadata": {},
     "output_type": "execute_result"
    }
   ],
   "source": [
    "df_final_cv = pd.read_csv('data/after_eda/cv_after_eda.csv', skiprows=skip_cv, names=['source_node', 'destination_node'])\n",
    "df_final_cv['indicator_link'] = pd.read_csv('data/cv_y.csv', skiprows=skip_cv, names=['indicator_link'])\n",
    "print(\"Our cv matrix size \",df_final_cv.shape)\n",
    "df_final_cv.head(2)"
   ]
  },
  {
   "cell_type": "code",
   "execution_count": 74,
   "metadata": {},
   "outputs": [
    {
     "name": "stdout",
     "output_type": "stream",
     "text": [
      "Our test matrix size  (50002, 3)\n"
     ]
    },
    {
     "data": {
      "text/html": [
       "<div>\n",
       "<style scoped>\n",
       "    .dataframe tbody tr th:only-of-type {\n",
       "        vertical-align: middle;\n",
       "    }\n",
       "\n",
       "    .dataframe tbody tr th {\n",
       "        vertical-align: top;\n",
       "    }\n",
       "\n",
       "    .dataframe thead th {\n",
       "        text-align: right;\n",
       "    }\n",
       "</style>\n",
       "<table border=\"1\" class=\"dataframe\">\n",
       "  <thead>\n",
       "    <tr style=\"text-align: right;\">\n",
       "      <th></th>\n",
       "      <th>source_node</th>\n",
       "      <th>destination_node</th>\n",
       "      <th>indicator_link</th>\n",
       "    </tr>\n",
       "  </thead>\n",
       "  <tbody>\n",
       "    <tr>\n",
       "      <th>0</th>\n",
       "      <td>848424</td>\n",
       "      <td>784690</td>\n",
       "      <td>1</td>\n",
       "    </tr>\n",
       "    <tr>\n",
       "      <th>1</th>\n",
       "      <td>84982</td>\n",
       "      <td>1453722</td>\n",
       "      <td>1</td>\n",
       "    </tr>\n",
       "  </tbody>\n",
       "</table>\n",
       "</div>"
      ],
      "text/plain": [
       "   source_node  destination_node  indicator_link\n",
       "0       848424            784690               1\n",
       "1        84982           1453722               1"
      ]
     },
     "execution_count": 74,
     "metadata": {},
     "output_type": "execute_result"
    }
   ],
   "source": [
    "df_final_test = pd.read_csv('data/after_eda/test_after_eda.csv', skiprows=skip_test, names=['source_node', 'destination_node'])\n",
    "df_final_test['indicator_link'] = pd.read_csv('data/test_y.csv', skiprows=skip_test, names=['indicator_link'])\n",
    "print(\"Our test matrix size \",df_final_test.shape)\n",
    "df_final_test.head(2)"
   ]
  },
  {
   "cell_type": "markdown",
   "metadata": {},
   "source": [
    "## 4.2 Adding a set of features\n",
    "\n",
    "__We will create these each of these features for both train and test data points__\n",
    "<ol>\n",
    "<li>jaccard_followers</li>\n",
    "<li>jaccard_followees</li>\n",
    "<li>cosine_followers</li>\n",
    "<li>cosine_followees</li>\n",
    "<li>num_followers_s</li>\n",
    "<li>num_followees_s</li>\n",
    "<li>num_followers_d</li>\n",
    "<li>num_followees_d</li>\n",
    "<li>inter_followers</li>\n",
    "<li>inter_followees</li>\n",
    "</ol>"
   ]
  },
  {
   "cell_type": "code",
   "execution_count": 75,
   "metadata": {},
   "outputs": [],
   "source": [
    "if not os.path.isfile('data/fea_sample/storage_sample_stage1.h5'):\n",
    "    #mapping jaccard followers to train,cv and test data\n",
    "    df_final_train['jaccard_followers'] = df_final_train.apply(lambda row:\n",
    "                                            jaccard_for_followers(row['source_node'],row['destination_node']),axis=1)\n",
    "    df_final_cv['jaccard_followers'] = df_final_cv.apply(lambda row:\n",
    "                                            jaccard_for_followers(row['source_node'],row['destination_node']),axis=1)\n",
    "    df_final_test['jaccard_followers'] = df_final_test.apply(lambda row:\n",
    "                                            jaccard_for_followers(row['source_node'],row['destination_node']),axis=1)\n",
    "\n",
    "    #mapping jaccard followees to train,cv and test data\n",
    "    df_final_train['jaccard_followees'] = df_final_train.apply(lambda row:\n",
    "                                            jaccard_for_followees(row['source_node'],row['destination_node']),axis=1)\n",
    "    df_final_cv['jaccard_followees'] = df_final_cv.apply(lambda row:\n",
    "                                            jaccard_for_followees(row['source_node'],row['destination_node']),axis=1)\n",
    "    df_final_test['jaccard_followees'] = df_final_test.apply(lambda row:\n",
    "                                            jaccard_for_followees(row['source_node'],row['destination_node']),axis=1)\n",
    "    \n",
    "\n",
    "    #mapping cosine followers to train,cv and test data\n",
    "    df_final_train['cosine_followers'] = df_final_train.apply(lambda row:\n",
    "                                            cosine_for_followers(row['source_node'],row['destination_node']),axis=1)\n",
    "    df_final_cv['cosine_followers'] = df_final_cv.apply(lambda row:\n",
    "                                            cosine_for_followers(row['source_node'],row['destination_node']),axis=1)\n",
    "    df_final_test['cosine_followers'] = df_final_test.apply(lambda row:\n",
    "                                            cosine_for_followers(row['source_node'],row['destination_node']),axis=1)\n",
    "\n",
    "    #mapping cosine followees to train,cv and test data\n",
    "    df_final_train['cosine_followees'] = df_final_train.apply(lambda row:\n",
    "                                            cosine_for_followees(row['source_node'],row['destination_node']),axis=1)\n",
    "    df_final_cv['cosine_followees'] = df_final_cv.apply(lambda row:\n",
    "                                            cosine_for_followees(row['source_node'],row['destination_node']),axis=1)\n",
    "    df_final_test['cosine_followees'] = df_final_test.apply(lambda row:\n",
    "                                            cosine_for_followees(row['source_node'],row['destination_node']),axis=1)"
   ]
  },
  {
   "cell_type": "code",
   "execution_count": 76,
   "metadata": {},
   "outputs": [],
   "source": [
    "def compute_features_stage1(df_final):\n",
    "    #calculating no of followers followees for source and destination\n",
    "    #calculating intersection of followers and followees for source and destination\n",
    "    num_followers_s=[]\n",
    "    num_followees_s=[]\n",
    "    num_followers_d=[]\n",
    "    num_followees_d=[]\n",
    "    inter_followers=[]\n",
    "    inter_followees=[]\n",
    "    for i,row in df_final.iterrows():\n",
    "        try:\n",
    "            s1=set(train_graph.predecessors(row['source_node']))\n",
    "            s2=set(train_graph.successors(row['source_node']))\n",
    "        except:\n",
    "            s1 = set()\n",
    "            s2 = set()\n",
    "        try:\n",
    "            d1=set(train_graph.predecessors(row['destination_node']))\n",
    "            d2=set(train_graph.successors(row['destination_node']))\n",
    "        except:\n",
    "            d1 = set()\n",
    "            d2 = set()\n",
    "        num_followers_s.append(len(s1))\n",
    "        num_followees_s.append(len(s2))\n",
    "\n",
    "        num_followers_d.append(len(d1))\n",
    "        num_followees_d.append(len(d2))\n",
    "\n",
    "        inter_followers.append(len(s1.intersection(d1)))\n",
    "        inter_followees.append(len(s2.intersection(d2)))\n",
    "    \n",
    "    return num_followers_s, num_followers_d, num_followees_s, num_followees_d, inter_followers, inter_followees"
   ]
  },
  {
   "cell_type": "code",
   "execution_count": 77,
   "metadata": {},
   "outputs": [],
   "source": [
    "if not os.path.isfile('data/fea_sample/storage_sample_stage1.h5'):\n",
    "    df_final_train['num_followers_s'], df_final_train['num_followers_d'], \\\n",
    "    df_final_train['num_followees_s'], df_final_train['num_followees_d'], \\\n",
    "    df_final_train['inter_followers'], df_final_train['inter_followees']= compute_features_stage1(df_final_train)\n",
    "    \n",
    "    df_final_cv['num_followers_s'], df_final_cv['num_followers_d'], \\\n",
    "    df_final_cv['num_followees_s'], df_final_cv['num_followees_d'], \\\n",
    "    df_final_cv['inter_followers'], df_final_cv['inter_followees']= compute_features_stage1(df_final_cv)\n",
    "    \n",
    "    df_final_test['num_followers_s'], df_final_test['num_followers_d'], \\\n",
    "    df_final_test['num_followees_s'], df_final_test['num_followees_d'], \\\n",
    "    df_final_test['inter_followers'], df_final_test['inter_followees']= compute_features_stage1(df_final_test)\n",
    "    \n",
    "    hdf = HDFStore('data/fea_sample/storage_sample_stage1.h5')\n",
    "    hdf.put('train_df',df_final_train, format='table', data_columns=True)\n",
    "    hdf.put('cv_df',df_final_cv, format='table', data_columns=True)\n",
    "    hdf.put('test_df',df_final_test, format='table', data_columns=True)\n",
    "    hdf.close()\n",
    "else:\n",
    "    df_final_train = read_hdf('data/fea_sample/storage_sample_stage1.h5', 'train_df',mode='r')\n",
    "    df_final_cv = read_hdf('data/fea_sample/storage_sample_stage1.h5', 'cv_df',mode='r')\n",
    "    df_final_test = read_hdf('data/fea_sample/storage_sample_stage1.h5', 'test_df',mode='r')"
   ]
  },
  {
   "cell_type": "markdown",
   "metadata": {},
   "source": [
    "## 4.3 Adding new set of features\n",
    "\n",
    "__We will create these each of these features for both train and test data points__\n",
    "<ol>\n",
    "<li>adar index</li>\n",
    "<li>is following back</li>\n",
    "<li>belongs to same weakly connect components</li>\n",
    "<li>shortest path between source and destination</li>\n",
    "</ol>"
   ]
  },
  {
   "cell_type": "code",
   "execution_count": 78,
   "metadata": {},
   "outputs": [],
   "source": [
    "if not os.path.isfile('data/fea_sample/storage_sample_stage2.h5'):\n",
    "    #mapping adar index on train\n",
    "    df_final_train['adar_index'] = df_final_train.apply(lambda row: calc_adar_in(row['source_node'],row['destination_node']),axis=1)\n",
    "    \n",
    "    #mapping adar index on cv\n",
    "    df_final_cv['adar_index'] = df_final_cv.apply(lambda row: calc_adar_in(row['source_node'],row['destination_node']),axis=1)\n",
    "    \n",
    "    #mapping adar index on test\n",
    "    df_final_test['adar_index'] = df_final_test.apply(lambda row: calc_adar_in(row['source_node'],row['destination_node']),axis=1)\n",
    "\n",
    "    #--------------------------------------------------------------------------------------------------------\n",
    "    #mapping follow-back or not on train\n",
    "    df_final_train['follows_back'] = df_final_train.apply(lambda row: follows_back(row['source_node'],row['destination_node']),axis=1)\n",
    "    \n",
    "    #mapping follow-back or not on cv\n",
    "    df_final_cv['follows_back'] = df_final_cv.apply(lambda row: follows_back(row['source_node'],row['destination_node']),axis=1)\n",
    "\n",
    "    #mapping follow-back or not on test\n",
    "    df_final_test['follows_back'] = df_final_test.apply(lambda row: follows_back(row['source_node'],row['destination_node']),axis=1)\n",
    "\n",
    "    #--------------------------------------------------------------------------------------------------------\n",
    "    #mapping same component of wcc or not on train\n",
    "    df_final_train['same_comp'] = df_final_train.apply(lambda row: belongs_to_same_wcc(row['source_node'],row['destination_node']),axis=1)\n",
    "    \n",
    "    #mapping same component of wcc or not on cv\n",
    "    df_final_cv['same_comp'] = df_final_cv.apply(lambda row: belongs_to_same_wcc(row['source_node'],row['destination_node']),axis=1)\n",
    "\n",
    "    ##mapping same component of wcc or not on train\n",
    "    df_final_test['same_comp'] = df_final_test.apply(lambda row: belongs_to_same_wcc(row['source_node'],row['destination_node']),axis=1)\n",
    "    \n",
    "    #--------------------------------------------------------------------------------------------------------\n",
    "    #mapping shortest path on train \n",
    "    df_final_train['shortest_path'] = df_final_train.apply(lambda row: compute_shortest_path_length(row['source_node'],row['destination_node']),axis=1)\n",
    "    \n",
    "    #mapping shortest path on cv \n",
    "    df_final_cv['shortest_path'] = df_final_cv.apply(lambda row: compute_shortest_path_length(row['source_node'],row['destination_node']),axis=1)\n",
    "   \n",
    "    #mapping shortest path on test\n",
    "    df_final_test['shortest_path'] = df_final_test.apply(lambda row: compute_shortest_path_length(row['source_node'],row['destination_node']),axis=1)\n",
    "\n",
    "    hdf = HDFStore('data/fea_sample/storage_sample_stage2.h5')\n",
    "    hdf.put('train_df',df_final_train, format='table', data_columns=True)\n",
    "    hdf.put('cv_df',df_final_cv, format='table', data_columns=True)\n",
    "    hdf.put('test_df',df_final_test, format='table', data_columns=True)\n",
    "    hdf.close()\n",
    "else:\n",
    "    df_final_train = read_hdf('data/fea_sample/storage_sample_stage2.h5', 'train_df',mode='r')\n",
    "    df_final_cv = read_hdf('data/fea_sample/storage_sample_stage2.h5', 'cv_df',mode='r')\n",
    "    df_final_test = read_hdf('data/fea_sample/storage_sample_stage2.h5', 'test_df',mode='r')"
   ]
  },
  {
   "cell_type": "markdown",
   "metadata": {},
   "source": [
    "## 4.4 Adding new set of features\n",
    "\n",
    "__We will create these each of these features for both train and test data points__\n",
    "<ol>\n",
    "<li>Weight Features\n",
    "    <ul>\n",
    "        <li>weight of incoming edges</li>\n",
    "        <li>weight of outgoing edges</li>\n",
    "        <li>weight of incoming edges + weight of outgoing edges</li>\n",
    "        <li>weight of incoming edges * weight of outgoing edges</li>\n",
    "        <li>2*weight of incoming edges + weight of outgoing edges</li>\n",
    "        <li>weight of incoming edges + 2*weight of outgoing edges</li>\n",
    "    </ul>\n",
    "</li>\n",
    "<li>Page Ranking of source</li>\n",
    "<li>Page Ranking of dest</li>\n",
    "<li>katz of source</li>\n",
    "<li>katz of dest</li>\n",
    "<li>hubs of source</li>\n",
    "<li>hubs of dest</li>\n",
    "<li>authorities_s of source</li>\n",
    "<li>authorities_s of dest</li>\n",
    "</ol>"
   ]
  },
  {
   "cell_type": "markdown",
   "metadata": {},
   "source": [
    "#### Weight Features"
   ]
  },
  {
   "cell_type": "markdown",
   "metadata": {},
   "source": [
    "* Imagine that you are a user denoted by vertex U(i) and you have a large number of incoming edges. Assume that there are 1 Million edges that are coming into U(i). This could mean that the user U(i) is a celebrity.\n",
    "* There could be another kind of vertex U(j) who is an average person. Assume that there are around 30 persons/people who are linking into U(j).\n",
    "* Now, in this scenario defined above, because U(i) is a Celebrity, the probability of any 2 random people (out of the followers) knowing each other is very small. But since U(j) is not a celebrity, the probability that 2 random people know each other is very high (could be a network of friends).\n",
    "\n",
    "***Therefore, if we can somehow encode this information (whether somebody is a celebrity or a random person) using just the number of vertices linking into the same, it could be a very beneficial feature .***\n",
    "\n",
    "==================================================================================================================\n",
    "\n",
    "* There is a Weighted Feature called W which is defined for any vertex U(i) and the formula for the same is as follows :- \n",
    "\n",
    "\\begin{equation}\n",
    "W[U(i)] = \\frac{1}{\\sqrt{1+|X|}}\n",
    "\\end{equation} \n",
    "\n",
    "* Assuming that we are computing the incoming weight in the above formula, X over here is basically the set of all vertices linking into the vertex U(i).\n",
    "- If U(i) is a celebrity, as seen in the example above, with a total of 1 million followers, |X| = 1 Million. \n",
    "- Similarly, for an average person like U(j), |X| = 30.\n",
    "    \n",
    "* You will realise that here, W[U(j)] > W[U(i)] { because the denominator is small, the average value will be larger.}\n",
    "\n",
    "***The Weight Computed in this case is called the in-weight feature because now we are basically using the set of vertices that are linking into U(i) and U(j).***\n",
    "\n",
    "* We can compute the same for out-links as well ie. the vertices linking out of U(i) : If a person has a lot of out-links it means that he is following a lot of users.\n",
    "* The only difference in this case will be that X = Set of Vertices linking out from U(i) or U(j). \n",
    "\n",
    "* Based on the recommendations provided in the research paper link, following are some additional Weight Features :-\n",
    "- In-Weight (Weight of Incoming Edges).\n",
    "- Out-Weight (Weight of Outgoing Edges).\n",
    "- In-Weight + Out-Weight.\n",
    "- In-Weight * Out-Weight.\n",
    "- 2*(In-Weight) + Out-Weight.\n",
    "- In-Weight + 2*(Out-Weight).\n",
    "\n",
    "<b> This means that for every vertex U(i) we have these 6 features that are defined above. </b>\n",
    "    \n"
   ]
  },
  {
   "cell_type": "code",
   "execution_count": 79,
   "metadata": {},
   "outputs": [
    {
     "name": "stderr",
     "output_type": "stream",
     "text": [
      "100%|██████████| 1688330/1688330 [00:14<00:00, 117153.44it/s]\n"
     ]
    }
   ],
   "source": [
    "#weight for source and destination of each link\n",
    "Weight_in = {}\n",
    "Weight_out = {}\n",
    "for i in  tqdm(train_graph.nodes()):\n",
    "    s1=set(train_graph.predecessors(i))\n",
    "    w_in = 1.0/(np.sqrt(1+len(s1)))\n",
    "    Weight_in[i]=w_in\n",
    "    \n",
    "    s2=set(train_graph.successors(i))\n",
    "    w_out = 1.0/(np.sqrt(1+len(s2)))\n",
    "    Weight_out[i]=w_out\n",
    "    \n",
    "#for imputing with mean\n",
    "mean_weight_in = np.mean(list(Weight_in.values()))\n",
    "mean_weight_out = np.mean(list(Weight_out.values()))"
   ]
  },
  {
   "cell_type": "code",
   "execution_count": 80,
   "metadata": {},
   "outputs": [],
   "source": [
    "if not os.path.isfile('data/fea_sample/storage_sample_stage3.h5'):\n",
    "    #mapping to pandas train\n",
    "    df_final_train['weight_in'] = df_final_train.destination_node.apply(lambda x: Weight_in.get(x,mean_weight_in))\n",
    "    df_final_train['weight_out'] = df_final_train.source_node.apply(lambda x: Weight_out.get(x,mean_weight_out))\n",
    "    \n",
    "    #mapping to pandas cv\n",
    "    df_final_cv['weight_in'] = df_final_cv.destination_node.apply(lambda x: Weight_in.get(x,mean_weight_in))\n",
    "    df_final_cv['weight_out'] = df_final_cv.source_node.apply(lambda x: Weight_out.get(x,mean_weight_out))\n",
    "\n",
    "    #mapping to pandas test\n",
    "    df_final_test['weight_in'] = df_final_test.destination_node.apply(lambda x: Weight_in.get(x,mean_weight_in))\n",
    "    df_final_test['weight_out'] = df_final_test.source_node.apply(lambda x: Weight_out.get(x,mean_weight_out))\n",
    "\n",
    "   \n",
    "    #some feature engineerings on the in and out weights (train data)\n",
    "    df_final_train['weight_f1'] = df_final_train.weight_in + df_final_train.weight_out\n",
    "    df_final_train['weight_f2'] = df_final_train.weight_in * df_final_train.weight_out\n",
    "    df_final_train['weight_f3'] = (2*df_final_train.weight_in + 1*df_final_train.weight_out)\n",
    "    df_final_train['weight_f4'] = (1*df_final_train.weight_in + 2*df_final_train.weight_out)\n",
    "    \n",
    "    #some feature engineerings on the in and out weights (cv data)\n",
    "    df_final_cv['weight_f1'] = df_final_cv.weight_in + df_final_cv.weight_out\n",
    "    df_final_cv['weight_f2'] = df_final_cv.weight_in * df_final_cv.weight_out\n",
    "    df_final_cv['weight_f3'] = (2*df_final_cv.weight_in + 1*df_final_cv.weight_out)\n",
    "    df_final_cv['weight_f4'] = (1*df_final_cv.weight_in + 2*df_final_cv.weight_out)\n",
    "\n",
    "    #some feature engineerings on the in and out weights (test data)\n",
    "    df_final_test['weight_f1'] = df_final_test.weight_in + df_final_test.weight_out\n",
    "    df_final_test['weight_f2'] = df_final_test.weight_in * df_final_test.weight_out\n",
    "    df_final_test['weight_f3'] = (2*df_final_test.weight_in + 1*df_final_test.weight_out)\n",
    "    df_final_test['weight_f4'] = (1*df_final_test.weight_in + 2*df_final_test.weight_out)"
   ]
  },
  {
   "cell_type": "code",
   "execution_count": 81,
   "metadata": {},
   "outputs": [],
   "source": [
    "if not os.path.isfile('data/fea_sample/storage_sample_stage3.h5'):\n",
    "    \n",
    "    #page rank for source and destination in Train,CV and Test\n",
    "    #if anything not there in train graph then adding mean page rank \n",
    "    df_final_train['page_rank_s'] = df_final_train.source_node.apply(lambda x:pr.get(x,mean_pr))\n",
    "    df_final_train['page_rank_d'] = df_final_train.destination_node.apply(lambda x:pr.get(x,mean_pr))\n",
    "    \n",
    "    df_final_cv['page_rank_s'] = df_final_cv.source_node.apply(lambda x:pr.get(x,mean_pr))\n",
    "    df_final_cv['page_rank_d'] = df_final_cv.destination_node.apply(lambda x:pr.get(x,mean_pr))\n",
    "\n",
    "    df_final_test['page_rank_s'] = df_final_test.source_node.apply(lambda x:pr.get(x,mean_pr))\n",
    "    df_final_test['page_rank_d'] = df_final_test.destination_node.apply(lambda x:pr.get(x,mean_pr))\n",
    "    #================================================================================\n",
    "\n",
    "    #Katz centrality score for source and destination in Train,CV and test\n",
    "    #if anything not there in train graph then adding mean katz score\n",
    "    df_final_train['katz_s'] = df_final_train.source_node.apply(lambda x: katz.get(x,mean_katz))\n",
    "    df_final_train['katz_d'] = df_final_train.destination_node.apply(lambda x: katz.get(x,mean_katz))\n",
    "    \n",
    "    df_final_cv['katz_s'] = df_final_cv.source_node.apply(lambda x: katz.get(x,mean_katz))\n",
    "    df_final_cv['katz_d'] = df_final_cv.destination_node.apply(lambda x: katz.get(x,mean_katz))\n",
    "\n",
    "    df_final_test['katz_s'] = df_final_test.source_node.apply(lambda x: katz.get(x,mean_katz))\n",
    "    df_final_test['katz_d'] = df_final_test.destination_node.apply(lambda x: katz.get(x,mean_katz))\n",
    "    #================================================================================\n",
    "\n",
    "    #Hits algorithm score for source and destination in Train,CV and test\n",
    "    #if anything not there in train graph then adding 0\n",
    "    df_final_train['hubs_s'] = df_final_train.source_node.apply(lambda x: hits[0].get(x,0))\n",
    "    df_final_train['hubs_d'] = df_final_train.destination_node.apply(lambda x: hits[0].get(x,0))\n",
    "    \n",
    "    df_final_cv['hubs_s'] = df_final_cv.source_node.apply(lambda x: hits[0].get(x,0))\n",
    "    df_final_cv['hubs_d'] = df_final_cv.destination_node.apply(lambda x: hits[0].get(x,0))\n",
    "\n",
    "    df_final_test['hubs_s'] = df_final_test.source_node.apply(lambda x: hits[0].get(x,0))\n",
    "    df_final_test['hubs_d'] = df_final_test.destination_node.apply(lambda x: hits[0].get(x,0))\n",
    "    #================================================================================\n",
    "\n",
    "    #Hits algorithm score for source and destination in Train,CV and Test\n",
    "    #if anything not there in train graph then adding 0\n",
    "    df_final_train['authorities_s'] = df_final_train.source_node.apply(lambda x: hits[1].get(x,0))\n",
    "    df_final_train['authorities_d'] = df_final_train.destination_node.apply(lambda x: hits[1].get(x,0))\n",
    "    \n",
    "    df_final_cv['authorities_s'] = df_final_cv.source_node.apply(lambda x: hits[1].get(x,0))\n",
    "    df_final_cv['authorities_d'] = df_final_cv.destination_node.apply(lambda x: hits[1].get(x,0))\n",
    "\n",
    "    df_final_test['authorities_s'] = df_final_test.source_node.apply(lambda x: hits[1].get(x,0))\n",
    "    df_final_test['authorities_d'] = df_final_test.destination_node.apply(lambda x: hits[1].get(x,0))\n",
    "    #================================================================================\n",
    "\n",
    "    hdf = HDFStore('data/fea_sample/storage_sample_stage3.h5')\n",
    "    hdf.put('train_df',df_final_train, format='table', data_columns=True)\n",
    "    hdf.put('cv_df',df_final_cv, format='table',data_columns=True)\n",
    "    hdf.put('test_df',df_final_test, format='table', data_columns=True)\n",
    "    hdf.close()\n",
    "else:\n",
    "    df_final_train = read_hdf('data/fea_sample/storage_sample_stage3.h5', 'train_df',mode='r')\n",
    "    df_final_cv = read_hdf('data/fea_sample/storage_sample_stage3.h5', 'cv_df',mode='r')\n",
    "    df_final_test = read_hdf('data/fea_sample/storage_sample_stage3.h5', 'test_df',mode='r')"
   ]
  },
  {
   "cell_type": "markdown",
   "metadata": {},
   "source": [
    "## 4.5 Adding new set of features\n",
    "\n",
    "__We will create these each of these features for both train and test data points__\n",
    "<ol>\n",
    "<li>SVD features for both source and destination</li>\n",
    "</ol>"
   ]
  },
  {
   "cell_type": "markdown",
   "metadata": {},
   "source": [
    "* We can carry out Matrix Factorization in order to obtain new features (doing Feature Engineering).\n",
    "* Given a directed graph data we can carry out SVD (Singular Value Decomposition). { This is a very simple implementation of Matrix Factorization to come up with features in our Directed Graph }.\n",
    "* We have been provided with a Graph G that has directed edges from U(i) to U(j).\n",
    "\n",
    "* There is a concept of Adjacency Matrix (A) in Graph Theory which represents as a matrix, all of the information that we have in our graph.\n",
    "* Graph G has 1.78 Million users in the training data. \n",
    "- Therefore the size of Matrix A becomes as follows :- Size of A = (1.78M * 1.78M).\n",
    "- Adjacency Matrix changes from Graph to Graph. Eg: There are variations of adjacency matrix for the Directed Graphs and Undirected Graphs (or Weighted Graphs). In our graph we only have information about the presence or absence of edges. In the case of a directed graph that we have,\n",
    "                    A(i,j) = 1 {if there exists a directed edge from U(i) to U(j)\n",
    "                    A(i,j) = 0, otherwise.\n",
    "\n",
    "***Therefore if a Graph G has n vertices, the Adjacency Matrix (A) is going to be an (n*n) matrix where the 9i,j)th cell is going to be 1 if there is a directed edge from U(i) to U(j) and it is 0 otherwise. Thus, in our case of a Directed Graph this Adjacency Matrix is simply a Binary Matrix of 1s and 0s.***\n",
    "\n",
    "===================================================================================================================\n",
    "\n",
    "* The Challenge that we face in our case is that we are going to obtain a very large and a very sparse Adjacency Matrix. \n",
    "* Imagine that for any vertex U(i) only a very few edges are present and most of the possible edges to the other vertices are absent. \n",
    "- Given this matrix A, if we apply SVD on top of this, you can get 3 matrices.\n",
    "                    \n",
    "                    A = u * s * (v^T)\n",
    "\n",
    "Here, A is a (1.78M * 1.78M) Binary Sparse Matrix.\n",
    "- In the SVD Decomposition code defined below we are saying K=6. (These are basically the number of components that we want).\n",
    "- When we want to decompose the matrix with only 6 components, we are going to obtain the following dimensionalities for each of the matrices that we obtain :- \n",
    "                    \n",
    "                    u {Left Singular Matrix}    = (n * k) = (1.78M * 6)\n",
    "                    s                           = (n * n) = (6 * 6)\n",
    "                    v^T (Right Singular Matrix) = (k * n) = (6 * 1.78M)\n",
    "\n",
    "*Therefore for any vertex i in the graph we have a 6-Dimensional Representation of that vertex in your Left Singular Matrix.*\n",
    "\n",
    "***Both the Left Singular Matrix as well as the Right Singular Matrix can be used as Feature Vectors for the ith vertex.***\n",
    "\n",
    "* In our case we have 2 vertex pairs U(i) and U(j) and our task is to predict whether if there is an edge between them or not.\n",
    "* There will be 2 six dimensional vectors for the vertex U(i) -> Corresponding to Matrix u and (v^T).\n",
    "* Therefore, for every pair of vertices that we have and to predict whether there is an edge or not between them, we obtain 4 six-dimensional matrices -> We obtain a total of 24 features from SVD."
   ]
  },
  {
   "cell_type": "code",
   "execution_count": 82,
   "metadata": {},
   "outputs": [],
   "source": [
    "def svd(x, S):\n",
    "    try:\n",
    "        z = sadj_dict[x]\n",
    "        return S[z]\n",
    "    except:\n",
    "        return [0,0,0,0,0,0]"
   ]
  },
  {
   "cell_type": "code",
   "execution_count": 83,
   "metadata": {},
   "outputs": [],
   "source": [
    "#for svd features to get feature vector creating a dict node val and index in svd vector\n",
    "sadj_col = sorted(train_graph.nodes())\n",
    "sadj_dict = { val:idx for idx,val in enumerate(sadj_col)}"
   ]
  },
  {
   "cell_type": "code",
   "execution_count": 84,
   "metadata": {},
   "outputs": [],
   "source": [
    "Adj = nx.adjacency_matrix(train_graph,nodelist=sorted(train_graph.nodes())).asfptype()"
   ]
  },
  {
   "cell_type": "code",
   "execution_count": 85,
   "metadata": {},
   "outputs": [
    {
     "name": "stdout",
     "output_type": "stream",
     "text": [
      "Adjacency matrix Shape (1688330, 1688330)\n",
      "U Shape (1688330, 6)\n",
      "V Shape (6, 1688330)\n",
      "s Shape (6,)\n"
     ]
    }
   ],
   "source": [
    "U, s, V = svds(Adj, k = 6) #k defines the number of components that we want.\n",
    "\n",
    "print('Adjacency matrix Shape',Adj.shape)\n",
    "print('U Shape',U.shape)\n",
    "print('V Shape',V.shape)\n",
    "print('s Shape',s.shape)"
   ]
  },
  {
   "cell_type": "code",
   "execution_count": 86,
   "metadata": {},
   "outputs": [
    {
     "data": {
      "text/plain": [
       "(100002, 31)"
      ]
     },
     "execution_count": 86,
     "metadata": {},
     "output_type": "execute_result"
    }
   ],
   "source": [
    "df_final_train.shape"
   ]
  },
  {
   "cell_type": "code",
   "execution_count": 87,
   "metadata": {},
   "outputs": [],
   "source": [
    "if not os.path.isfile('data/fea_sample/storage_sample_stage4.h5'):\n",
    "    #===================================================================================================\n",
    "    \n",
    "    df_final_train[['svd_u_s_1', 'svd_u_s_2','svd_u_s_3', 'svd_u_s_4', 'svd_u_s_5', 'svd_u_s_6']] = \\\n",
    "    df_final_train.source_node.apply(lambda x: svd(x, U)).apply(pd.Series)\n",
    "    \n",
    "    df_final_train[['svd_u_d_1', 'svd_u_d_2', 'svd_u_d_3', 'svd_u_d_4', 'svd_u_d_5','svd_u_d_6']] = \\\n",
    "    df_final_train.destination_node.apply(lambda x: svd(x, U)).apply(pd.Series)\n",
    "    \n",
    "    df_final_train[['svd_v_s_1','svd_v_s_2', 'svd_v_s_3', 'svd_v_s_4', 'svd_v_s_5', 'svd_v_s_6',]] = \\\n",
    "    df_final_train.source_node.apply(lambda x: svd(x, V.T)).apply(pd.Series)\n",
    "\n",
    "    df_final_train[['svd_v_d_1', 'svd_v_d_2', 'svd_v_d_3', 'svd_v_d_4', 'svd_v_d_5','svd_v_d_6']] = \\\n",
    "    df_final_train.destination_node.apply(lambda x: svd(x, V.T)).apply(pd.Series)\n",
    "    #===================================================================================================\n",
    "    \n",
    "    df_final_cv[['svd_u_s_1', 'svd_u_s_2','svd_u_s_3', 'svd_u_s_4', 'svd_u_s_5', 'svd_u_s_6']] = \\\n",
    "    df_final_cv.source_node.apply(lambda x: svd(x, U)).apply(pd.Series)\n",
    "    \n",
    "    df_final_cv[['svd_u_d_1', 'svd_u_d_2', 'svd_u_d_3', 'svd_u_d_4', 'svd_u_d_5','svd_u_d_6']] = \\\n",
    "    df_final_cv.destination_node.apply(lambda x: svd(x, U)).apply(pd.Series)\n",
    "    \n",
    "    df_final_cv[['svd_v_s_1','svd_v_s_2', 'svd_v_s_3', 'svd_v_s_4', 'svd_v_s_5', 'svd_v_s_6',]] = \\\n",
    "    df_final_cv.source_node.apply(lambda x: svd(x, V.T)).apply(pd.Series)\n",
    "\n",
    "    df_final_cv[['svd_v_d_1', 'svd_v_d_2', 'svd_v_d_3', 'svd_v_d_4', 'svd_v_d_5','svd_v_d_6']] = \\\n",
    "    df_final_cv.destination_node.apply(lambda x: svd(x, V.T)).apply(pd.Series)\n",
    "    #===================================================================================================\n",
    "    \n",
    "    df_final_test[['svd_u_s_1', 'svd_u_s_2','svd_u_s_3', 'svd_u_s_4', 'svd_u_s_5', 'svd_u_s_6']] = \\\n",
    "    df_final_test.source_node.apply(lambda x: svd(x, U)).apply(pd.Series)\n",
    "    \n",
    "    df_final_test[['svd_u_d_1', 'svd_u_d_2', 'svd_u_d_3', 'svd_u_d_4', 'svd_u_d_5','svd_u_d_6']] = \\\n",
    "    df_final_test.destination_node.apply(lambda x: svd(x, U)).apply(pd.Series)\n",
    "\n",
    "    df_final_test[['svd_v_s_1','svd_v_s_2', 'svd_v_s_3', 'svd_v_s_4', 'svd_v_s_5', 'svd_v_s_6',]] = \\\n",
    "    df_final_test.source_node.apply(lambda x: svd(x, V.T)).apply(pd.Series)\n",
    "\n",
    "    df_final_test[['svd_v_d_1', 'svd_v_d_2', 'svd_v_d_3', 'svd_v_d_4', 'svd_v_d_5','svd_v_d_6']] = \\\n",
    "    df_final_test.destination_node.apply(lambda x: svd(x, V.T)).apply(pd.Series)\n",
    "    #===================================================================================================\n",
    "\n",
    "    hdf = HDFStore('data/fea_sample/storage_sample_stage4.h5')\n",
    "    hdf.put('train_df',df_final_train, format='table', data_columns=True)\n",
    "    hdf.put('cv_df',df_final_cv, format='table', data_columns=True)\n",
    "    hdf.put('test_df',df_final_test, format='table', data_columns=True)\n",
    "    hdf.close()"
   ]
  },
  {
   "cell_type": "markdown",
   "metadata": {},
   "source": [
    "# 5. Feature Engineering Part 2 "
   ]
  },
  {
   "cell_type": "markdown",
   "metadata": {},
   "source": [
    "## 5.1  SVD Dot\n",
    "\n",
    "https://storage.googleapis.com/kaggle-forum-message-attachments/2594/supervised_link_prediction.pdf"
   ]
  },
  {
   "cell_type": "markdown",
   "metadata": {},
   "source": [
    "* We had obtained a total of 24 SVD features for each of our Train, CV as well as our Test Datasets :- 12 SVD Features for the Source and 12 SVD Features for our destination vertex.\n",
    "* Now we obtain 2 additional features to our datasets by feature engineering since we are carrying out a dot product ( for each of our 6 dimensions ) between our source and destination vertices of our left singular matrix as well as the source and destination vertices of our right singular matrix."
   ]
  },
  {
   "cell_type": "code",
   "execution_count": 88,
   "metadata": {},
   "outputs": [],
   "source": [
    "if not os.path.isfile('data/fea_sample/storage_sample_stage5.h5'):\n",
    "    \n",
    "    #===================================================================================================\n",
    "    \n",
    "    df_final_train['svd_u_dot'] =  df_final_train['svd_u_s_1']* df_final_train['svd_u_d_1'] + \\\n",
    "                                   df_final_train['svd_u_s_2']* df_final_train['svd_u_d_2'] + \\\n",
    "                                   df_final_train['svd_u_s_3']* df_final_train['svd_u_d_3'] + \\\n",
    "                                   df_final_train['svd_u_s_4']* df_final_train['svd_u_d_4'] + \\\n",
    "                                   df_final_train['svd_u_s_5']* df_final_train['svd_u_d_5'] + \\\n",
    "                                   df_final_train['svd_u_s_6']* df_final_train['svd_u_d_6'] \n",
    "    \n",
    "    df_final_train['svd_v_dot'] =  df_final_train['svd_v_s_1']* df_final_train['svd_v_d_1'] + \\\n",
    "                                   df_final_train['svd_v_s_2']* df_final_train['svd_v_d_2'] + \\\n",
    "                                   df_final_train['svd_v_s_3']* df_final_train['svd_v_d_3'] + \\\n",
    "                                   df_final_train['svd_v_s_4']* df_final_train['svd_v_d_4'] + \\\n",
    "                                   df_final_train['svd_v_s_5']* df_final_train['svd_v_d_5'] + \\\n",
    "                                   df_final_train['svd_v_s_6']* df_final_train['svd_v_d_6']\n",
    "    \n",
    "    #--------------------------------------------------------------------------------------------------\n",
    "    \n",
    "    \n",
    "    df_final_cv['svd_u_dot'] =  df_final_cv['svd_u_s_1']* df_final_cv['svd_u_d_1'] + \\\n",
    "                                df_final_cv['svd_u_s_2']* df_final_cv['svd_u_d_2'] + \\\n",
    "                                df_final_cv['svd_u_s_3']* df_final_cv['svd_u_d_3'] + \\\n",
    "                                df_final_cv['svd_u_s_4']* df_final_cv['svd_u_d_4'] + \\\n",
    "                                df_final_cv['svd_u_s_5']* df_final_cv['svd_u_d_5'] + \\\n",
    "                                df_final_cv['svd_u_s_6']* df_final_cv['svd_u_d_6'] \n",
    "    \n",
    "    df_final_cv['svd_v_dot'] =  df_final_cv['svd_v_s_1']* df_final_cv['svd_v_d_1'] + \\\n",
    "                                df_final_cv['svd_v_s_2']* df_final_cv['svd_v_d_2'] + \\\n",
    "                                df_final_cv['svd_v_s_3']* df_final_cv['svd_v_d_3'] + \\\n",
    "                                df_final_cv['svd_v_s_4']* df_final_cv['svd_v_d_4'] + \\\n",
    "                                df_final_cv['svd_v_s_5']* df_final_cv['svd_v_d_5'] + \\\n",
    "                                df_final_cv['svd_v_s_6']* df_final_cv['svd_v_d_6']\n",
    "    \n",
    "    \n",
    "    #--------------------------------------------------------------------------------------------------\n",
    "    \n",
    "    df_final_test['svd_u_dot'] =  df_final_test['svd_u_s_1']* df_final_test['svd_u_d_1'] + \\\n",
    "                                   df_final_test['svd_u_s_2']* df_final_test['svd_u_d_2'] + \\\n",
    "                                   df_final_test['svd_u_s_3']* df_final_test['svd_u_d_3'] + \\\n",
    "                                   df_final_test['svd_u_s_4']* df_final_test['svd_u_d_4'] + \\\n",
    "                                   df_final_test['svd_u_s_5']* df_final_test['svd_u_d_5'] + \\\n",
    "                                   df_final_test['svd_u_s_6']* df_final_test['svd_u_d_6'] \n",
    "    \n",
    "    df_final_test['svd_v_dot'] =  df_final_test['svd_v_s_1']* df_final_test['svd_v_d_1'] + \\\n",
    "                                  df_final_test['svd_v_s_2']* df_final_test['svd_v_d_2'] + \\\n",
    "                                  df_final_test['svd_v_s_3']* df_final_test['svd_v_d_3'] + \\\n",
    "                                  df_final_test['svd_v_s_4']* df_final_test['svd_v_d_4'] + \\\n",
    "                                  df_final_test['svd_v_s_5']* df_final_test['svd_v_d_5'] + \\\n",
    "                                  df_final_test['svd_v_s_6']* df_final_test['svd_v_d_6']\n",
    "    \n",
    "    #--------------------------------------------------------------------------------------------------\n",
    "      \n",
    "    hdf = HDFStore('data/fea_sample/storage_sample_stage5.h5')\n",
    "    hdf.put('train_df',df_final_train, format='table', data_columns=True)\n",
    "    hdf.put('cv_df',df_final_cv, format='table', data_columns=True)\n",
    "    hdf.put('test_df',df_final_test, format='table', data_columns=True)\n",
    "    hdf.close()"
   ]
  },
  {
   "cell_type": "markdown",
   "metadata": {},
   "source": [
    "## 5.2  Preferential Attachment \n",
    " \n",
    " http://be.amazd.com/link-prediction/ \n",
    " \n",
    " * It is a very well known concept in social media link generation that users with many friends tend to create more connections in the future.\n",
    " * Therefore we generate something called the Preferential Attachment Score between our 2 vertices (Source and Destination), the formula for which is defined as follows :-\n",
    "                     \n",
    "                     Score(x,y) = |N(x)| * |N(y)|\n",
    " \n",
    " Note that here, our vertices - x: Source Vertex, and y: Destination Vertex.\n",
    " \n",
    " * <b> The Biggest advantage about this is the fact that this particular similarity index does not require any node neighbour information, and therefore has the lowest computational complexity. </b>"
   ]
  },
  {
   "cell_type": "code",
   "execution_count": 89,
   "metadata": {},
   "outputs": [],
   "source": [
    "#for followees\n",
    "def preferential_attachment_followees(a,b):\n",
    "    if train_graph.has_node(a) and train_graph.has_node(b):\n",
    "        attach = (len(list(train_graph.successors(a))))*(len(list(train_graph.successors(b))))\n",
    "        return attach\n",
    "    else:\n",
    "        return 0"
   ]
  },
  {
   "cell_type": "code",
   "execution_count": 90,
   "metadata": {},
   "outputs": [],
   "source": [
    "#for followers\n",
    "def preferential_attachment_followers(a,b):\n",
    "    if train_graph.has_node(a) and train_graph.has_node(b):\n",
    "        attach = (len(list(train_graph.predecessors(a))))*(len(list(train_graph.predecessors(b))))\n",
    "        return attach\n",
    "    else:\n",
    "        return 0"
   ]
  },
  {
   "cell_type": "code",
   "execution_count": 91,
   "metadata": {},
   "outputs": [
    {
     "name": "stdout",
     "output_type": "stream",
     "text": [
      "46\n"
     ]
    }
   ],
   "source": [
    "print(preferential_attachment_followees(98,470294))"
   ]
  },
  {
   "cell_type": "code",
   "execution_count": 92,
   "metadata": {},
   "outputs": [
    {
     "name": "stdout",
     "output_type": "stream",
     "text": [
      "34\n"
     ]
    }
   ],
   "source": [
    "print(preferential_attachment_followers(98,470294))"
   ]
  },
  {
   "cell_type": "code",
   "execution_count": 93,
   "metadata": {},
   "outputs": [],
   "source": [
    "if not os.path.isfile('data/fea_sample/storage_sample_stage6.h5'):\n",
    "    #===================================================================================================\n",
    "    #mapping preferential followers to train,cv and test data\n",
    "    df_final_train['pref_attach_followers'] = df_final_train.apply(lambda row: \\\n",
    "                                              preferential_attachment_followers(row['source_node'],row['destination_node']),axis=1)\n",
    "    df_final_cv['pref_attach_followers'] = df_final_cv.apply(lambda row: \\\n",
    "                                            preferential_attachment_followers(row['source_node'],row['destination_node']),axis=1)\n",
    "    df_final_test['pref_attach_followers'] = df_final_test.apply(lambda row: \\\n",
    "                                            preferential_attachment_followers(row['source_node'],row['destination_node']),axis=1)\n",
    "\n",
    "    #mapping preferential followees to train,cv and test data\n",
    "    df_final_train['pref_attach_followees'] = df_final_train.apply(lambda row: \\\n",
    "                                            preferential_attachment_followees(row['source_node'],row['destination_node']),axis=1)\n",
    "    df_final_cv['pref_attach_followees'] = df_final_cv.apply(lambda row: \\\n",
    "                                            preferential_attachment_followees(row['source_node'],row['destination_node']),axis=1)\n",
    "    df_final_test['pref_attach_followees'] = df_final_test.apply(lambda row: \\\n",
    "                                            preferential_attachment_followees(row['source_node'],row['destination_node']),axis=1)\n",
    "    \n",
    "    hdf = HDFStore('data/fea_sample/storage_sample_stage6.h5')\n",
    "    hdf.put('train_df',df_final_train, format='table', data_columns=True)\n",
    "    hdf.put('cv_df',df_final_cv, format='table', data_columns=True)\n",
    "    hdf.put('test_df',df_final_test, format='table', data_columns=True)\n",
    "    hdf.close()"
   ]
  },
  {
   "cell_type": "code",
   "execution_count": 94,
   "metadata": {},
   "outputs": [],
   "source": [
    "#reading\n",
    "from pandas import read_hdf\n",
    "df_final_train = read_hdf('data/fea_sample/storage_sample_stage6.h5', 'train_df',mode='r')\n",
    "df_final_cv = read_hdf('data/fea_sample/storage_sample_stage6.h5', 'cv_df',mode='r')\n",
    "df_final_test = read_hdf('data/fea_sample/storage_sample_stage6.h5', 'test_df',mode='r')"
   ]
  },
  {
   "cell_type": "code",
   "execution_count": 95,
   "metadata": {},
   "outputs": [
    {
     "data": {
      "text/plain": [
       "Index(['source_node', 'destination_node', 'indicator_link',\n",
       "       'jaccard_followers', 'jaccard_followees', 'cosine_followers',\n",
       "       'cosine_followees', 'num_followers_s', 'num_followers_d',\n",
       "       'num_followees_s', 'num_followees_d', 'inter_followers',\n",
       "       'inter_followees', 'adar_index', 'follows_back', 'same_comp',\n",
       "       'shortest_path', 'weight_in', 'weight_out', 'weight_f1', 'weight_f2',\n",
       "       'weight_f3', 'weight_f4', 'page_rank_s', 'page_rank_d', 'katz_s',\n",
       "       'katz_d', 'hubs_s', 'hubs_d', 'authorities_s', 'authorities_d',\n",
       "       'svd_u_s_1', 'svd_u_s_2', 'svd_u_s_3', 'svd_u_s_4', 'svd_u_s_5',\n",
       "       'svd_u_s_6', 'svd_u_d_1', 'svd_u_d_2', 'svd_u_d_3', 'svd_u_d_4',\n",
       "       'svd_u_d_5', 'svd_u_d_6', 'svd_v_s_1', 'svd_v_s_2', 'svd_v_s_3',\n",
       "       'svd_v_s_4', 'svd_v_s_5', 'svd_v_s_6', 'svd_v_d_1', 'svd_v_d_2',\n",
       "       'svd_v_d_3', 'svd_v_d_4', 'svd_v_d_5', 'svd_v_d_6', 'svd_u_dot',\n",
       "       'svd_v_dot', 'pref_attach_followers', 'pref_attach_followees'],\n",
       "      dtype='object')"
      ]
     },
     "execution_count": 95,
     "metadata": {},
     "output_type": "execute_result"
    }
   ],
   "source": [
    "df_final_train.columns"
   ]
  },
  {
   "cell_type": "code",
   "execution_count": 96,
   "metadata": {},
   "outputs": [],
   "source": [
    "#obtaining our class labels\n",
    "y_train = df_final_train.indicator_link\n",
    "y_cv = df_final_cv.indicator_link\n",
    "y_test = df_final_test.indicator_link"
   ]
  },
  {
   "cell_type": "code",
   "execution_count": 97,
   "metadata": {},
   "outputs": [],
   "source": [
    "#removing the unnecessary columns\n",
    "df_final_train.drop(['source_node', 'destination_node','indicator_link'],axis=1,inplace=True)\n",
    "df_final_cv.drop(['source_node', 'destination_node','indicator_link'],axis=1,inplace=True)\n",
    "df_final_test.drop(['source_node', 'destination_node','indicator_link'],axis=1,inplace=True)"
   ]
  },
  {
   "cell_type": "markdown",
   "metadata": {},
   "source": [
    "# 6. Machine Learning Models"
   ]
  },
  {
   "cell_type": "markdown",
   "metadata": {},
   "source": [
    "* A fairly Non- Linear model should work out pretty well for this case study.\n",
    "* First we are using a Random Forest Classifier because we know that typically the Random Forest Classifiers work fairly well when we have a reasonable number of features that are not too small and nor too large.\n",
    "* Also, Random Forest is a great model choice to be used when we want to automatically take care of the non-linearities. (No need to carry out further non-linear transformations and interaction features)."
   ]
  },
  {
   "cell_type": "markdown",
   "metadata": {},
   "source": [
    "## 6.1 Random Forest Classifier :-"
   ]
  },
  {
   "cell_type": "code",
   "execution_count": 98,
   "metadata": {},
   "outputs": [],
   "source": [
    "#function to obtain the confusion,precision and recall matrices\n",
    "\n",
    "from sklearn.metrics import confusion_matrix\n",
    "def plot_confusion_matrix(cv_y, predict_y):\n",
    "    C = confusion_matrix(cv_y, predict_y)\n",
    "    \n",
    "    A =(((C.T)/(C.sum(axis=1))).T)\n",
    "    \n",
    "    B =(C/C.sum(axis=0))\n",
    "    plt.figure(figsize=(20,4))\n",
    "    \n",
    "    labels = [0,1]\n",
    "    # representing A in heatmap format\n",
    "    cmap=sns.light_palette(\"blue\")\n",
    "    plt.subplot(1, 3, 1)\n",
    "    sns.heatmap(C, annot=True, cmap=cmap, fmt=\".3f\", xticklabels=labels, yticklabels=labels)\n",
    "    plt.xlabel('Predicted Class')\n",
    "    plt.ylabel('Original Class')\n",
    "    plt.title(\"Confusion matrix\")\n",
    "    \n",
    "    plt.subplot(1, 3, 2)\n",
    "    sns.heatmap(B, annot=True, cmap=cmap, fmt=\".3f\", xticklabels=labels, yticklabels=labels)\n",
    "    plt.xlabel('Predicted Class')\n",
    "    plt.ylabel('Original Class')\n",
    "    plt.title(\"Precision matrix\")\n",
    "    \n",
    "    plt.subplot(1, 3, 3)\n",
    "    # representing B in heatmap format\n",
    "    sns.heatmap(A, annot=True, cmap=cmap, fmt=\".3f\", xticklabels=labels, yticklabels=labels)\n",
    "    plt.xlabel('Predicted Class')\n",
    "    plt.ylabel('Original Class')\n",
    "    plt.title(\"Recall matrix\")\n",
    "    \n",
    "    plt.show()"
   ]
  },
  {
   "cell_type": "code",
   "execution_count": 99,
   "metadata": {},
   "outputs": [
    {
     "name": "stdout",
     "output_type": "stream",
     "text": [
      "Train f1 score =  0.9985629440553117\n",
      "CV f1 score =  0.8790736435808588\n",
      "Test f1 score =  0.8822191109555478\n"
     ]
    }
   ],
   "source": [
    "from sklearn.ensemble import RandomForestClassifier\n",
    "from sklearn.metrics import f1_score\n",
    "from sklearn.model_selection import RandomizedSearchCV\n",
    "from scipy.stats import randint as sp_randint\n",
    "from scipy.stats import uniform\n",
    "\n",
    "from datetime import datetime\n",
    "import time \n",
    "\n",
    "clf1 = RandomForestClassifier(criterion='gini', max_features='auto', n_jobs=-1,\n",
    "                             random_state=25, verbose=0, warm_start=False)\n",
    "clf1.fit(df_final_train,y_train)\n",
    "y_train_pred1 = clf1.predict(df_final_train)\n",
    "y_cv_pred1 = clf1.predict(df_final_cv)\n",
    "y_test_pred1 = clf1.predict(df_final_test)\n",
    "\n",
    "print('Train f1 score = ',f1_score(y_train,y_train_pred1))\n",
    "print('CV f1 score = ',f1_score(y_cv,y_cv_pred1))\n",
    "print('Test f1 score = ',f1_score(y_test,y_test_pred1))"
   ]
  },
  {
   "cell_type": "code",
   "execution_count": 100,
   "metadata": {
    "scrolled": false
   },
   "outputs": [
    {
     "name": "stdout",
     "output_type": "stream",
     "text": [
      "CV confusion_matrix\n"
     ]
    },
    {
     "data": {
      "image/png": "[encoded data removed]",
      "text/plain": [
       "<Figure size 1440x288 with 6 Axes>"
      ]
     },
     "metadata": {},
     "output_type": "display_data"
    },
    {
     "name": "stdout",
     "output_type": "stream",
     "text": [
      "Test confusion_matrix\n"
     ]
    },
    {
     "data": {
      "image/png": "[encoded data removed]",
      "text/plain": [
       "<Figure size 1440x288 with 6 Axes>"
      ]
     },
     "metadata": {},
     "output_type": "display_data"
    }
   ],
   "source": [
    "print('CV confusion_matrix')\n",
    "plot_confusion_matrix(y_cv,y_cv_pred1)\n",
    "\n",
    "print('Test confusion_matrix')\n",
    "plot_confusion_matrix(y_test,y_test_pred1)"
   ]
  },
  {
   "cell_type": "markdown",
   "metadata": {},
   "source": [
    "<h4> Observations :- </h4>\n",
    "\n",
    "* Confusion Matrix :- Here you'll realise that your accuracy for Test Data = (24454+20164)/50000 => 89.23%.\n",
    "* Precision Matrix :- In your Precision matrix the column sum = 1. It is saying that of all the points that are predicted to belong to class 0, 83.7% of them actually belong to class 0 and 16.3% of them belong to class 1. Similarly of all the points that are predicted to belong to class 1, 96.9% actually belong to class 1 and 3.1% of them belong to class 0. {The Diagonal values here are the Precision values for Class 0 and Class 1}\n",
    "* Recall Matrix :- In your recall matrix, the row sum = 1. Hence, here it says that for all the points that belong to class 0 your random model predicted 97.5% of them belonging to class 0 and 2.5% of them belonging to class 1. Similarly of all the points that originally belong to class 1, 80.9% of those points have been predicted by the random model to belong to class 1 and 19.1% to belong to class 0. The diagonal values that you see in the Recall Matrix are the Recall Values for Class 0 and the Recall values for class 1. "
   ]
  },
  {
   "cell_type": "markdown",
   "metadata": {},
   "source": [
    "### 6.1.1 Hyperparameter Tuning for Number of Estimators (Simple CV) :-"
   ]
  },
  {
   "cell_type": "code",
   "execution_count": 101,
   "metadata": {},
   "outputs": [
    {
     "name": "stdout",
     "output_type": "stream",
     "text": [
      "Estimators =  10 Train Score 0.8928388666673629 CV Score 0.8496074263653319\n",
      "Estimators =  50 Train Score 0.8952083816430213 CV Score 0.8516524403589406\n",
      "Estimators =  100 Train Score 0.8962514399247541 CV Score 0.8710569527266442\n",
      "Estimators =  250 Train Score 0.8957713803648633 CV Score 0.8535656437420653\n",
      "Estimators =  450 Train Score 0.8959762303631823 CV Score 0.8486951937439592\n"
     ]
    },
    {
     "data": {
      "text/plain": [
       "Text(0.5, 1.0, 'Estimators vs Score at depth of 5')"
      ]
     },
     "execution_count": 101,
     "metadata": {},
     "output_type": "execute_result"
    },
    {
     "data": {
      "image/png": "[encoded data removed]",
      "text/plain": [
       "<Figure size 432x288 with 1 Axes>"
      ]
     },
     "metadata": {},
     "output_type": "display_data"
    }
   ],
   "source": [
    "estimators = [10,50,100,250,450]\n",
    "train_scores = []\n",
    "cv_scores = []\n",
    "\n",
    "for i in estimators:\n",
    "    clf = RandomForestClassifier(bootstrap=True, class_weight=None, criterion='gini',\n",
    "            max_depth=5, max_features='auto', max_leaf_nodes=None,\n",
    "            min_impurity_decrease=0.0, min_impurity_split=None,\n",
    "            min_samples_leaf=52, min_samples_split=120,\n",
    "            min_weight_fraction_leaf=0.0, n_estimators=i, n_jobs=-1,random_state=25,verbose=0,warm_start=False)\n",
    "    clf.fit(df_final_train,y_train)\n",
    "    train_sc = f1_score(y_train,clf.predict(df_final_train))\n",
    "    cv_sc = f1_score(y_cv,clf.predict(df_final_cv))\n",
    "    cv_scores.append(cv_sc)\n",
    "    train_scores.append(train_sc)\n",
    "    print('Estimators = ',i,'Train Score',train_sc,'CV Score',cv_sc)\n",
    "plt.plot(estimators,train_scores,label='Train Score')\n",
    "plt.plot(estimators,cv_scores,label='CV Score')\n",
    "plt.xlabel('Estimators')\n",
    "plt.ylabel('Score')\n",
    "plt.title('Estimators vs Score at depth of 5')"
   ]
  },
  {
   "cell_type": "markdown",
   "metadata": {},
   "source": [
    "<h4> Observations </h4>\n",
    "\n",
    "* In order to choose the best value of our hyperparameter, the difference between Train and CV scores must be minimum.\n",
    "* Therefore according to the values in our list, 100 would be a good value for the number of estimators."
   ]
  },
  {
   "cell_type": "markdown",
   "metadata": {},
   "source": [
    "### 6.1.2 Hyperparameter Tuning for Max Depth (Simple CV) :-"
   ]
  },
  {
   "cell_type": "code",
   "execution_count": 102,
   "metadata": {
    "scrolled": false
   },
   "outputs": [
    {
     "name": "stdout",
     "output_type": "stream",
     "text": [
      "depth =  3 Train Score 0.8483639776460049 CV Score 0.8128562658949399\n",
      "depth =  9 Train Score 0.9518630661805598 CV Score 0.8798273812144963\n",
      "depth =  11 Train Score 0.9561227945930967 CV Score 0.8777448857862413\n",
      "depth =  15 Train Score 0.9575120815078543 CV Score 0.882896357557628\n",
      "depth =  20 Train Score 0.9578509517857509 CV Score 0.8838760642499781\n",
      "depth =  35 Train Score 0.9583286394592657 CV Score 0.8798237885462555\n",
      "depth =  50 Train Score 0.9583286394592657 CV Score 0.8798237885462555\n",
      "depth =  70 Train Score 0.9583286394592657 CV Score 0.8798237885462555\n",
      "depth =  130 Train Score 0.9583286394592657 CV Score 0.8798237885462555\n"
     ]
    },
    {
     "data": {
      "image/png": "[encoded data removed]",
      "text/plain": [
       "<Figure size 432x288 with 1 Axes>"
      ]
     },
     "metadata": {},
     "output_type": "display_data"
    }
   ],
   "source": [
    "depths = [3,9,11,15,20,35,50,70,130]\n",
    "train_scores = []\n",
    "cv_scores = []\n",
    "for i in depths:\n",
    "    clf = RandomForestClassifier(bootstrap=True, class_weight=None, criterion='gini',\n",
    "            max_depth=i, max_features='auto', max_leaf_nodes=None,\n",
    "            min_impurity_decrease=0.0, min_impurity_split=None,\n",
    "            min_samples_leaf=52, min_samples_split=120,\n",
    "            min_weight_fraction_leaf=0.0, n_estimators=115, n_jobs=-1,random_state=25,verbose=0,warm_start=False)\n",
    "    clf.fit(df_final_train,y_train)\n",
    "    \n",
    "    train_sc = f1_score(y_train,clf.predict(df_final_train))\n",
    "    cv_sc = f1_score(y_cv,clf.predict(df_final_cv))\n",
    "    cv_scores.append(cv_sc)\n",
    "    train_scores.append(train_sc)\n",
    "    print('depth = ',i,'Train Score',train_sc,'CV Score',cv_sc)\n",
    "plt.plot(depths,train_scores,label='Train Score')\n",
    "plt.plot(depths,cv_scores,label='CV Score')\n",
    "plt.xlabel('Depth')\n",
    "plt.ylabel('Score')\n",
    "plt.title('Depth vs Score at depth of 5 at estimators = 115')\n",
    "plt.show()"
   ]
  },
  {
   "cell_type": "markdown",
   "metadata": {},
   "source": [
    "<h4> Observations </h4>\n",
    "\n",
    "* Again, in order to choose the best value of our hyperparameter, the difference between Train and CV scores must be minimum.\n",
    "* Therefore a value = 20 (according to the values that we chose for our list) should be good to go."
   ]
  },
  {
   "cell_type": "markdown",
   "metadata": {},
   "source": [
    "### 6.1.3 Tuning all of our Hyperparameters (Random Search CV) :-"
   ]
  },
  {
   "cell_type": "code",
   "execution_count": 103,
   "metadata": {},
   "outputs": [
    {
     "name": "stdout",
     "output_type": "stream",
     "text": [
      "\n",
      " Best hyperparameters:\n",
      "RandomForestClassifier(bootstrap=True, ccp_alpha=0.0, class_weight=None,\n",
      "                       criterion='gini', max_depth=16, max_features='auto',\n",
      "                       max_leaf_nodes=None, max_samples=None,\n",
      "                       min_impurity_decrease=0.0, min_impurity_split=None,\n",
      "                       min_samples_leaf=28, min_samples_split=112,\n",
      "                       min_weight_fraction_leaf=0.0, n_estimators=124,\n",
      "                       n_jobs=-1, oob_score=False, random_state=25, verbose=0,\n",
      "                       warm_start=False)\n",
      "                                                                                                    \n",
      "Best f1-score obtained on Cross Validation data using hyperparameter tuning:  0.9602486892109875\n",
      "                                                                                                    \n",
      "mean test scores [0.93120366 0.95669126 0.95464879 0.95288972 0.96002925 0.95821892\n",
      " 0.95628389 0.8515273  0.88917374 0.93134595 0.95235071 0.9582216\n",
      " 0.89572717 0.95780961 0.95416717 0.95191545 0.9549532  0.96024869\n",
      " 0.9554989  0.95534251 0.95722326 0.89460007 0.9579995  0.95480699\n",
      " 0.91085502 0.95579207 0.95684048 0.9561142  0.95288127 0.8471182 ]\n",
      "mean train scores [0.93163747 0.95790024 0.95583563 0.95357406 0.96194933 0.95980647\n",
      " 0.95795347 0.8518447  0.88943515 0.93180278 0.95372708 0.96015598\n",
      " 0.89587705 0.95944038 0.95552302 0.95310074 0.95595209 0.96188002\n",
      " 0.95667155 0.9569271  0.95845146 0.89479666 0.95958709 0.95571595\n",
      " 0.91091193 0.95673275 0.95828656 0.95744859 0.95343031 0.84716886]\n",
      "                                                                                                    \n",
      "Time taken to run this cell : 0:03:46.914267\n"
     ]
    }
   ],
   "source": [
    "start = datetime.now()\n",
    "\n",
    "param_dist = {\"n_estimators\":sp_randint(80,125),\n",
    "              \"max_depth\": sp_randint(3,30),\n",
    "              \"min_samples_split\": sp_randint(110,190),\n",
    "              \"min_samples_leaf\": sp_randint(25,65)}\n",
    "\n",
    "clf = RandomForestClassifier(random_state=25,n_jobs=-1)\n",
    "rf_random = RandomizedSearchCV(clf, param_distributions=param_dist,\n",
    "                                   n_iter=30,cv=5,scoring='f1',random_state=25,return_train_score=True)\n",
    "rf_random.fit(df_final_train,y_train)\n",
    "\n",
    "print('\\n Best hyperparameters:')\n",
    "print(rf_random.best_estimator_)\n",
    "\n",
    "print(\" \"*100)\n",
    "\n",
    "#Best cross validation f1-score obtained from hyperparameter tuning\n",
    "print(\"Best f1-score obtained on Cross Validation data using hyperparameter tuning: \",rf_random.best_score_)\n",
    "\n",
    "print(\" \"*100)\n",
    "print('mean test scores',rf_random.cv_results_['mean_test_score'])\n",
    "print('mean train scores',rf_random.cv_results_['mean_train_score'])\n",
    "\n",
    "print(\" \"*100)\n",
    "print(\"Time taken to run this cell :\", datetime.now() - start)"
   ]
  },
  {
   "cell_type": "markdown",
   "metadata": {},
   "source": [
    "### 6.1.4 Training with Best Values of Hyperparameters and obtaining CV & Test Metrics :-"
   ]
  },
  {
   "cell_type": "code",
   "execution_count": 104,
   "metadata": {},
   "outputs": [
    {
     "name": "stdout",
     "output_type": "stream",
     "text": [
      "Train f1 score =  0.9614810574308438\n",
      "CV f1 score =  0.8826220853497581\n",
      "Test f1 score =  0.8836984889356757\n"
     ]
    }
   ],
   "source": [
    "clf = RandomForestClassifier(bootstrap=True, class_weight=None,\n",
    "                       criterion='gini', max_depth=16, max_features='auto',\n",
    "                       max_leaf_nodes=None, max_samples=None,\n",
    "                       min_impurity_decrease=0.0, min_impurity_split=None,\n",
    "                       min_samples_leaf=28, min_samples_split=112,\n",
    "                       min_weight_fraction_leaf=0.0, n_estimators=124,\n",
    "                       n_jobs=-1, oob_score=False, random_state=25, verbose=0,\n",
    "                       warm_start=False)\n",
    "clf.fit(df_final_train,y_train)\n",
    "y_train_pred = clf.predict(df_final_train)\n",
    "y_cv_pred = clf.predict(df_final_cv)\n",
    "y_test_pred = clf.predict(df_final_test)\n",
    "\n",
    "print('Train f1 score = ',f1_score(y_train,y_train_pred))\n",
    "print('CV f1 score = ',f1_score(y_cv,y_cv_pred))\n",
    "print('Test f1 score = ',f1_score(y_test,y_test_pred))"
   ]
  },
  {
   "cell_type": "code",
   "execution_count": 105,
   "metadata": {},
   "outputs": [
    {
     "name": "stdout",
     "output_type": "stream",
     "text": [
      "CV confusion_matrix\n"
     ]
    },
    {
     "data": {
      "image/png": "[encoded data removed]",
      "text/plain": [
       "<Figure size 1440x288 with 6 Axes>"
      ]
     },
     "metadata": {},
     "output_type": "display_data"
    },
    {
     "name": "stdout",
     "output_type": "stream",
     "text": [
      "Test confusion_matrix\n"
     ]
    },
    {
     "data": {
      "image/png": "[encoded data removed]",
      "text/plain": [
       "<Figure size 1440x288 with 6 Axes>"
      ]
     },
     "metadata": {},
     "output_type": "display_data"
    }
   ],
   "source": [
    "print('CV confusion_matrix')\n",
    "plot_confusion_matrix(y_cv,y_cv_pred)\n",
    "\n",
    "print('Test confusion_matrix')\n",
    "plot_confusion_matrix(y_test,y_test_pred)"
   ]
  },
  {
   "cell_type": "markdown",
   "metadata": {},
   "source": [
    "<h4> Observations :- </h4>\n",
    "\n",
    "* Confusion Matrix :- Here you'll realise that your accuracy for Test Data = (24552+20147)/50000 => 89.39%.\n",
    "* Precision Matrix :- In your Precision matrix the column sum = 1. It is saying that of all the points that are predicted to belong to class 0, 83.8% of them actually belong to class 0 and 16.2% of them belong to class 1. Similarly of all the points that are predicted to belong to class 1, 97.4% actually belong to class 1 and 2.6% of them belong to class 0. {The Diagonal values here are the Precision values for Class 0 and Class 1}\n",
    "* Recall Matrix :- In your recall matrix, the row sum = 1. Hence, here it says that for all the points that belong to class 0 your random model predicted 97.8% of them belonging to class 0 and 2.2% of them belonging to class 1. Similarly of all the points that originally belong to class 1, 80.9% of those points have been predicted by the random model to belong to class 1 and 19.1% to belong to class 0. The diagonal values that you see in the Recall Matrix are the Recall Values for Class 0 and the Recall values for class 1. "
   ]
  },
  {
   "cell_type": "code",
   "execution_count": 106,
   "metadata": {},
   "outputs": [
    {
     "data": {
      "image/png": "[encoded data removed]",
      "text/plain": [
       "<Figure size 432x288 with 1 Axes>"
      ]
     },
     "metadata": {},
     "output_type": "display_data"
    }
   ],
   "source": [
    "#Obtaining AUC Values on our CV Dataset\n",
    "\n",
    "from sklearn.metrics import roc_curve, auc\n",
    "fpr,tpr,ths = roc_curve(y_cv,y_cv_pred)\n",
    "auc_sc = auc(fpr, tpr)\n",
    "plt.plot(fpr, tpr, color='navy',label='ROC curve (area = %0.2f)' % auc_sc)\n",
    "plt.xlabel('False Positive Rate')\n",
    "plt.ylabel('True Positive Rate')\n",
    "plt.title('Receiver operating characteristic with cv data')\n",
    "plt.legend()\n",
    "plt.show()"
   ]
  },
  {
   "cell_type": "code",
   "execution_count": 107,
   "metadata": {},
   "outputs": [
    {
     "data": {
      "image/png": "[encoded data removed]",
      "text/plain": [
       "<Figure size 720x864 with 1 Axes>"
      ]
     },
     "metadata": {},
     "output_type": "display_data"
    }
   ],
   "source": [
    "#Feature Importances for our Features\n",
    "\n",
    "features = df_final_train.columns\n",
    "importances = clf.feature_importances_\n",
    "indices = (np.argsort(importances))[-25:]\n",
    "plt.figure(figsize=(10,12))\n",
    "plt.title('Feature Importances')\n",
    "plt.barh(range(len(indices)), importances[indices], color='r', align='center')\n",
    "plt.yticks(range(len(indices)), [features[i] for i in indices])\n",
    "plt.xlabel('Relative Importance')\n",
    "plt.show()"
   ]
  },
  {
   "cell_type": "markdown",
   "metadata": {},
   "source": [
    "## 6.2 XGBoost Classifier :-"
   ]
  },
  {
   "cell_type": "markdown",
   "metadata": {},
   "source": [
    "### 6.2.1 Without Hyperparameter Tuning :-"
   ]
  },
  {
   "cell_type": "code",
   "execution_count": 108,
   "metadata": {},
   "outputs": [
    {
     "name": "stdout",
     "output_type": "stream",
     "text": [
      "The Train f1-score is: 0.9953889273982098\n",
      "The CV f1-score is: 0.8648770178515222\n",
      "The Test f1-score is: 0.8668894520824455\n",
      "                                                                                                    \n",
      "Time taken to run this cell : 0:01:05.199478\n"
     ]
    }
   ],
   "source": [
    "start = datetime.now()\n",
    "import xgboost as xgb\n",
    "\n",
    "xgb1 = xgb.XGBClassifier(objective='binary:logistic',eval_metric = 'error',silent=False, verbose=10, n_jobs=-1)\n",
    "xgb1.fit(df_final_train,y_train)\n",
    "\n",
    "predict_y_train1 = xgb1.predict(df_final_train)\n",
    "predict_y_cv1 = xgb1.predict(df_final_cv)\n",
    "predict_y_test1 = xgb1.predict(df_final_test)\n",
    "\n",
    "print(\"The Train f1-score is:\", f1_score(y_train, predict_y_train1))\n",
    "print(\"The CV f1-score is:\", f1_score(y_cv, predict_y_cv1))\n",
    "print(\"The Test f1-score is:\", f1_score(y_test, predict_y_test1))\n",
    "print(\" \"*100)\n",
    "\n",
    "print(\"Time taken to run this cell :\", datetime.now() - start)"
   ]
  },
  {
   "cell_type": "code",
   "execution_count": 109,
   "metadata": {},
   "outputs": [
    {
     "name": "stdout",
     "output_type": "stream",
     "text": [
      "CV confusion matrix\n"
     ]
    },
    {
     "data": {
      "image/png": "[encoded data removed]",
      "text/plain": [
       "<Figure size 1440x288 with 6 Axes>"
      ]
     },
     "metadata": {},
     "output_type": "display_data"
    },
    {
     "name": "stdout",
     "output_type": "stream",
     "text": [
      "Test confusion matrix\n"
     ]
    },
    {
     "data": {
      "image/png": "[encoded data removed]",
      "text/plain": [
       "<Figure size 1440x288 with 6 Axes>"
      ]
     },
     "metadata": {},
     "output_type": "display_data"
    }
   ],
   "source": [
    "print('CV confusion matrix')\n",
    "plot_confusion_matrix(y_cv,predict_y_cv1)\n",
    "\n",
    "print('Test confusion matrix')\n",
    "plot_confusion_matrix(y_test,predict_y_test1)"
   ]
  },
  {
   "cell_type": "markdown",
   "metadata": {},
   "source": [
    "<h4> Observations :- </h4>\n",
    "\n",
    "* Confusion Matrix :- Here you'll realise that your accuracy for Test Data = (24741+19326)/50000 => 88.13%.\n",
    "* Precision Matrix :- In your Precision matrix the column sum = 1. It is saying that of all the points that are predicted to belong to class 0, 81.6% of them actually belong to class 0 and 18.4% of them belong to class 1. Similarly of all the points that are predicted to belong to class 1, 98.2% actually belong to class 1 and 1.8% of them belong to class 0. \n",
    "* Recall Matrix :- In your recall matrix, the row sum = 1. Hence, here it says that for all the points that belong to class 0 your random model predicted 98.6% of them belonging to class 0 and 1.4% of them belonging to class 1. Similarly of all the points that originally belong to class 1, 77.6% of those points have been predicted by the random model to belong to class 1 and 22.4% to belong to class 0. "
   ]
  },
  {
   "cell_type": "markdown",
   "metadata": {},
   "source": [
    "### 6.2.2 Tuning all of our Hyperparameters (Random Search CV) :-"
   ]
  },
  {
   "cell_type": "code",
   "execution_count": 110,
   "metadata": {
    "scrolled": false
   },
   "outputs": [
    {
     "name": "stdout",
     "output_type": "stream",
     "text": [
      "Fitting 5 folds for each of 30 candidates, totalling 150 fits\n"
     ]
    },
    {
     "name": "stderr",
     "output_type": "stream",
     "text": [
      "[Parallel(n_jobs=-1)]: Using backend LokyBackend with 24 concurrent workers.\n",
      "[Parallel(n_jobs=-1)]: Done   2 tasks      | elapsed:  1.7min\n",
      "[Parallel(n_jobs=-1)]: Done  13 tasks      | elapsed:  3.1min\n",
      "[Parallel(n_jobs=-1)]: Done  24 tasks      | elapsed:  5.9min\n",
      "[Parallel(n_jobs=-1)]: Done  37 tasks      | elapsed:  9.2min\n",
      "[Parallel(n_jobs=-1)]: Done  50 tasks      | elapsed: 13.2min\n",
      "[Parallel(n_jobs=-1)]: Done  65 tasks      | elapsed: 18.1min\n",
      "[Parallel(n_jobs=-1)]: Done  80 tasks      | elapsed: 24.0min\n",
      "[Parallel(n_jobs=-1)]: Done  97 tasks      | elapsed: 29.2min\n",
      "[Parallel(n_jobs=-1)]: Done 119 out of 150 | elapsed: 35.0min remaining:  9.1min\n",
      "[Parallel(n_jobs=-1)]: Done 135 out of 150 | elapsed: 36.7min remaining:  4.1min\n",
      "[Parallel(n_jobs=-1)]: Done 150 out of 150 | elapsed: 51.8min finished\n"
     ]
    },
    {
     "name": "stdout",
     "output_type": "stream",
     "text": [
      "\n",
      " Best hyperparameters:\n",
      "{'subsample': 0.5, 'n_estimators': 750, 'min_child_weight': 3, 'max_depth': 5, 'gamma': 0.2, 'eta': 0.1, 'colsample_bytree': 0.9}\n",
      "                                                                                                    \n",
      "Best f1-score obtained on Cross Validation data using hyperparameter tuning:  0.9847703417181991\n",
      "Time taken to run this cell : 0:57:05.907604\n"
     ]
    }
   ],
   "source": [
    "#Following blog was used as a reference: https://blog.cambridgespark.com/hyperparameter-tuning-in-xgboost-4ff9100a3b2f\n",
    "\n",
    "import xgboost as xgb\n",
    "\n",
    "start = datetime.now()\n",
    "\n",
    "#A parameter grid for XGBoost\n",
    "params = {\n",
    "        'eta' : [0.05,0.1,0.3,0.5],\n",
    "        'min_child_weight': [3,4,5,6,7,8,9,10,11,12],\n",
    "        'gamma': [0,0.10,0.20,0.50,0.75],\n",
    "        'subsample': [0.45,0.5,0.6,0.7,0.8,0.9] ,\n",
    "        'colsample_bytree': [0.45,0.5,0.6,0.7,0.8,0.9],\n",
    "        'max_depth': [3,4,5,6,7,8,9,10,11,12],\n",
    "        'n_estimators' : [100,150,250,300,500,750,1000,3000]\n",
    "        }\n",
    "\n",
    "xgb = xgb.XGBClassifier(objective='binary:logistic', silent=False, verbose=10, n_jobs=-1)\n",
    "random_search = RandomizedSearchCV(xgb, param_distributions=params, n_iter=30, scoring='f1',\n",
    "                                   n_jobs=-1, cv=5, verbose=10, random_state=0)\n",
    "random_search.fit(df_final_train,y_train)\n",
    "\n",
    "print('\\n Best hyperparameters:')\n",
    "print(random_search.best_params_)\n",
    "\n",
    "print(\" \"*100)\n",
    "\n",
    "#Best cross validation log loss obtained from hyperparameter tuning\n",
    "print(\"Best f1-score obtained on Cross Validation data using hyperparameter tuning: \",random_search.best_score_)\n",
    "\n",
    "print(\"Time taken to run this cell :\", datetime.now() - start)"
   ]
  },
  {
   "cell_type": "markdown",
   "metadata": {},
   "source": [
    "### 6.2.3 Training with Best Values of Hyperparameters and obtaining CV & Test Metrics :-"
   ]
  },
  {
   "cell_type": "code",
   "execution_count": 112,
   "metadata": {},
   "outputs": [
    {
     "name": "stdout",
     "output_type": "stream",
     "text": [
      "The Train f1-score is: 0.9996587784267678\n",
      "The CV f1-score is: 0.8349335302806499\n",
      "The Test f1-score is: 0.8370765832106039\n",
      "                                                                                                    \n",
      "Time taken to run this cell : 0:05:28.226680\n"
     ]
    }
   ],
   "source": [
    "start = datetime.now()\n",
    "import xgboost as xgb\n",
    "\n",
    "xgb2 = xgb.XGBClassifier(objective='binary:logistic',eval_metric = 'error', eta = 0.1, max_depth=5,\n",
    "                        subsample = 0.5,gamma = 0.2, colsample_bytree = 0.9, min_child_weight=3,\n",
    "                        n_estimators = 750,silent=False, verbose=10, n_jobs=-1)\n",
    "xgb2.fit(df_final_train,y_train)\n",
    "\n",
    "predict_y_train2 = xgb2.predict(df_final_train)\n",
    "predict_y_cv2 = xgb2.predict(df_final_cv)\n",
    "predict_y_test2 = xgb2.predict(df_final_test)\n",
    "\n",
    "print(\"The Train f1-score is:\", f1_score(y_train, predict_y_train2))\n",
    "print(\"The CV f1-score is:\", f1_score(y_cv, predict_y_cv2))\n",
    "print(\"The Test f1-score is:\", f1_score(y_test, predict_y_test2))\n",
    "print(\" \"*100)\n",
    "\n",
    "print(\"Time taken to run this cell :\", datetime.now() - start)"
   ]
  },
  {
   "cell_type": "code",
   "execution_count": 113,
   "metadata": {
    "scrolled": false
   },
   "outputs": [
    {
     "name": "stdout",
     "output_type": "stream",
     "text": [
      "CV confusion matrix\n"
     ]
    },
    {
     "data": {
      "image/png": "[encoded data removed]",
      "text/plain": [
       "<Figure size 1440x288 with 6 Axes>"
      ]
     },
     "metadata": {},
     "output_type": "display_data"
    },
    {
     "name": "stdout",
     "output_type": "stream",
     "text": [
      "Test confusion matrix\n"
     ]
    },
    {
     "data": {
      "image/png": "[encoded data removed]",
      "text/plain": [
       "<Figure size 1440x288 with 6 Axes>"
      ]
     },
     "metadata": {},
     "output_type": "display_data"
    }
   ],
   "source": [
    "print('CV confusion matrix')\n",
    "plot_confusion_matrix(y_cv,predict_y_cv2)\n",
    "\n",
    "print('Test confusion matrix')\n",
    "plot_confusion_matrix(y_test,predict_y_test2)"
   ]
  },
  {
   "cell_type": "markdown",
   "metadata": {},
   "source": [
    "<h4> Observations :- </h4>\n",
    "\n",
    "* Confusion Matrix :- Here you'll realise that your accuracy for Test Data = (24734+18188)/50000 => 85.84%.\n",
    "* Precision Matrix :- In your Precision matrix the column sum = 1. It is saying that of all the points that are predicted to belong to class 0, 78.6% of them actually belong to class 0 and 21.4% of them belong to class 1. Similarly of all the points that are predicted to belong to class 1, 98.1% actually belong to class 1 and 1.9% of them belong to class 0. \n",
    "* Recall Matrix :- In your recall matrix, the row sum = 1. Hence, here it says that for all the points that belong to class 0 your random model predicted 98.6% of them belonging to class 0 and 1.4% of them belonging to class 1. Similarly of all the points that originally belong to class 1, 73.0% of those points have been predicted by the random model to belong to class 1 and 27.0% to belong to class 0. "
   ]
  },
  {
   "cell_type": "markdown",
   "metadata": {},
   "source": [
    "# 7. Conclusion :-"
   ]
  },
  {
   "cell_type": "markdown",
   "metadata": {},
   "source": [
    "This has been a Link Prediction Problem that was posted by Facebook :- However, unlike the social media platforms such as Facebook/Linkedin which have undirected edges, this social media data provided is in the form of pairs of source and destination vertices, which makes us to believe that this real world dataset could be from Instagram which is owned by Facebook :- Our Data has Directed Graphs. \n",
    "\n",
    "The Business requirement suggested that there were no strict latency constraints, and we could store the link prediction results for a particular user in a data structure such as a hash table, and show these top recommendations to the user once he/she logs in to the platform. Also, in our real world engineering challenge we would have had data snapshots available across various time stamps such that we can use the oldest data for Training and the upcoming timestamps in order to validate whether our link prediction (recommendations) worked as expected or not. However, for our case scenario, the problem is that we have been provided with a single time snapshot and therefore all we can carry out is Random Split of our data.\n",
    "\n",
    "In order to carry out featurizations, we take a look at a lot of ideas, most of which have been detailed in the respective sections of this IPYNB. These approaches include very simple approaches like whether the other person follows back his followers or not, Ranking ideas like PageRank which have been used in Search engine link ranking, graph based features such as Katz Centrality, Adar Index, SVD Based features, Preferential attachment etc. Finally we trained our non-linear models. The summary for the results obtained from each of these models is listed below :-"
   ]
  },
  {
   "cell_type": "code",
   "execution_count": 1,
   "metadata": {},
   "outputs": [
    {
     "name": "stdout",
     "output_type": "stream",
     "text": [
      "+-----------------------------+---------------+---------------+------------+------------+-----------+-----------+\n",
      "|            Model            | Test F1-Score | Test Accuracy | Pre (Cl-0) | Pre (Cl-1) | Re (Cl-0) | Re (Cl-1) |\n",
      "+-----------------------------+---------------+---------------+------------+------------+-----------+-----------+\n",
      "|  Random Forest (W/O Tuning) |     0.882     |     89.23%    |   83.70%   |   96.90%   |   97.50%  |   80.90%  |\n",
      "| Random Forest (With Tuning) |     0.883     |     89.39%    |   83.80%   |   97.40%   |   97.80%  |   80.90%  |\n",
      "|     XGBoost (W/O Tuning)    |     0.866     |     88.13%    |   81.60%   |   98.20%   |   98.60%  |   77.60%  |\n",
      "|    XGBoost (With Tuning)    |     0.837     |     85.84%    |   78.60%   |   98.10%   |   98.60%  |   73.00%  |\n",
      "+-----------------------------+---------------+---------------+------------+------------+-----------+-----------+\n"
     ]
    }
   ],
   "source": [
    "from prettytable import PrettyTable\n",
    "\n",
    "x=PrettyTable()\n",
    "x.field_names=[\"Model\",\"Test F1-Score\",\"Test Accuracy\",\"Pre (Cl-0)\",\"Pre (Cl-1)\",\"Re (Cl-0)\",\n",
    "               \"Re (Cl-1)\"]\n",
    "\n",
    "x.add_row([\"Random Forest (W/O Tuning)\",\"0.882\",\"89.23%\",\"83.70%\",\"96.90%\",\"97.50%\",\"80.90%\"])\n",
    "x.add_row([\"Random Forest (With Tuning)\",\"0.883\",\"89.39%\",\"83.80%\",\"97.40%\",\"97.80%\",\"80.90%\"])\n",
    "x.add_row([\"XGBoost (W/O Tuning)\",\"0.866\",\"88.13%\",\"81.60%\",\"98.20%\",\"98.60%\",\"77.60%\"])\n",
    "x.add_row([\"XGBoost (With Tuning)\",\"0.837\",\"85.84%\",\"78.60%\",\"98.10%\",\"98.60%\",\"73.00%\"])\n",
    "\n",
    "print(x)"
   ]
  }
 ],
 "metadata": {
  "colab": {
   "collapsed_sections": [
    "fjGhgPp2ORmH",
    "fCRpdjITORmu",
    "dZYvDAwDORnU",
    "JOFQEKhjORne"
   ],
   "name": "FB_EDA.ipynb",
   "provenance": []
  },
  "kernelspec": {
   "display_name": "Python 3",
   "language": "python",
   "name": "python3"
  },
  "language_info": {
   "codemirror_mode": {
    "name": "ipython",
    "version": 3
   },
   "file_extension": ".py",
   "mimetype": "text/x-python",
   "name": "python",
   "nbconvert_exporter": "python",
   "pygments_lexer": "ipython3",
   "version": "3.7.4"
  }
 },
 "nbformat": 4,
 "nbformat_minor": 1
}
